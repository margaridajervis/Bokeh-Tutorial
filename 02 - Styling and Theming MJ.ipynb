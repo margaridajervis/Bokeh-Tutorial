{
 "cells": [
  {
   "cell_type": "markdown",
   "metadata": {
    "Collapsed": "false"
   },
   "source": [
    "<table style=\"float:left; border:none\">\n",
    "   <tr style=\"border:none\">\n",
    "       <td style=\"border:none\">\n",
    "           <a href=\"https://bokeh.org/\">     \n",
    "           <img \n",
    "               src=\"assets/bokeh-transparent.png\" \n",
    "               style=\"width:50px\"\n",
    "           >\n",
    "           </a>    \n",
    "       </td>\n",
    "       <td style=\"border:none\">\n",
    "           <h1>Bokeh Tutorial</h1>\n",
    "       </td>\n",
    "   </tr>\n",
    "</table>\n",
    "\n",
    "<div style=\"float:right;\"><h2>02. Styling and Theming</h2></div>"
   ]
  },
  {
   "cell_type": "markdown",
   "metadata": {
    "Collapsed": "false"
   },
   "source": [
    "In this chapter we will learn how to configure various visual aspects of our plots, and how to find out more about what an be configured. "
   ]
  },
  {
   "cell_type": "markdown",
   "metadata": {},
   "source": [
    "# Imports and Setup\n",
    "\n",
    "First, let's make the standard imports"
   ]
  },
  {
   "cell_type": "code",
   "execution_count": 1,
   "metadata": {
    "Collapsed": "false"
   },
   "outputs": [],
   "source": [
    "from bokeh.io import output_notebook, show\n",
    "from bokeh.plotting import figure"
   ]
  },
  {
   "cell_type": "code",
   "execution_count": 2,
   "metadata": {
    "Collapsed": "false"
   },
   "outputs": [
    {
     "data": {
      "text/html": [
       "\n",
       "    <div class=\"bk-root\">\n",
       "        <a href=\"https://bokeh.pydata.org\" target=\"_blank\" class=\"bk-logo bk-logo-small bk-logo-notebook\"></a>\n",
       "        <span id=\"1001\">Loading BokehJS ...</span>\n",
       "    </div>"
      ]
     },
     "metadata": {},
     "output_type": "display_data"
    },
    {
     "data": {
      "application/javascript": [
       "\n",
       "(function(root) {\n",
       "  function now() {\n",
       "    return new Date();\n",
       "  }\n",
       "\n",
       "  var force = true;\n",
       "\n",
       "  if (typeof root._bokeh_onload_callbacks === \"undefined\" || force === true) {\n",
       "    root._bokeh_onload_callbacks = [];\n",
       "    root._bokeh_is_loading = undefined;\n",
       "  }\n",
       "\n",
       "  var JS_MIME_TYPE = 'application/javascript';\n",
       "  var HTML_MIME_TYPE = 'text/html';\n",
       "  var EXEC_MIME_TYPE = 'application/vnd.bokehjs_exec.v0+json';\n",
       "  var CLASS_NAME = 'output_bokeh rendered_html';\n",
       "\n",
       "  /**\n",
       "   * Render data to the DOM node\n",
       "   */\n",
       "  function render(props, node) {\n",
       "    var script = document.createElement(\"script\");\n",
       "    node.appendChild(script);\n",
       "  }\n",
       "\n",
       "  /**\n",
       "   * Handle when an output is cleared or removed\n",
       "   */\n",
       "  function handleClearOutput(event, handle) {\n",
       "    var cell = handle.cell;\n",
       "\n",
       "    var id = cell.output_area._bokeh_element_id;\n",
       "    var server_id = cell.output_area._bokeh_server_id;\n",
       "    // Clean up Bokeh references\n",
       "    if (id != null && id in Bokeh.index) {\n",
       "      Bokeh.index[id].model.document.clear();\n",
       "      delete Bokeh.index[id];\n",
       "    }\n",
       "\n",
       "    if (server_id !== undefined) {\n",
       "      // Clean up Bokeh references\n",
       "      var cmd = \"from bokeh.io.state import curstate; print(curstate().uuid_to_server['\" + server_id + \"'].get_sessions()[0].document.roots[0]._id)\";\n",
       "      cell.notebook.kernel.execute(cmd, {\n",
       "        iopub: {\n",
       "          output: function(msg) {\n",
       "            var id = msg.content.text.trim();\n",
       "            if (id in Bokeh.index) {\n",
       "              Bokeh.index[id].model.document.clear();\n",
       "              delete Bokeh.index[id];\n",
       "            }\n",
       "          }\n",
       "        }\n",
       "      });\n",
       "      // Destroy server and session\n",
       "      var cmd = \"import bokeh.io.notebook as ion; ion.destroy_server('\" + server_id + \"')\";\n",
       "      cell.notebook.kernel.execute(cmd);\n",
       "    }\n",
       "  }\n",
       "\n",
       "  /**\n",
       "   * Handle when a new output is added\n",
       "   */\n",
       "  function handleAddOutput(event, handle) {\n",
       "    var output_area = handle.output_area;\n",
       "    var output = handle.output;\n",
       "\n",
       "    // limit handleAddOutput to display_data with EXEC_MIME_TYPE content only\n",
       "    if ((output.output_type != \"display_data\") || (!output.data.hasOwnProperty(EXEC_MIME_TYPE))) {\n",
       "      return\n",
       "    }\n",
       "\n",
       "    var toinsert = output_area.element.find(\".\" + CLASS_NAME.split(' ')[0]);\n",
       "\n",
       "    if (output.metadata[EXEC_MIME_TYPE][\"id\"] !== undefined) {\n",
       "      toinsert[toinsert.length - 1].firstChild.textContent = output.data[JS_MIME_TYPE];\n",
       "      // store reference to embed id on output_area\n",
       "      output_area._bokeh_element_id = output.metadata[EXEC_MIME_TYPE][\"id\"];\n",
       "    }\n",
       "    if (output.metadata[EXEC_MIME_TYPE][\"server_id\"] !== undefined) {\n",
       "      var bk_div = document.createElement(\"div\");\n",
       "      bk_div.innerHTML = output.data[HTML_MIME_TYPE];\n",
       "      var script_attrs = bk_div.children[0].attributes;\n",
       "      for (var i = 0; i < script_attrs.length; i++) {\n",
       "        toinsert[toinsert.length - 1].firstChild.setAttribute(script_attrs[i].name, script_attrs[i].value);\n",
       "      }\n",
       "      // store reference to server id on output_area\n",
       "      output_area._bokeh_server_id = output.metadata[EXEC_MIME_TYPE][\"server_id\"];\n",
       "    }\n",
       "  }\n",
       "\n",
       "  function register_renderer(events, OutputArea) {\n",
       "\n",
       "    function append_mime(data, metadata, element) {\n",
       "      // create a DOM node to render to\n",
       "      var toinsert = this.create_output_subarea(\n",
       "        metadata,\n",
       "        CLASS_NAME,\n",
       "        EXEC_MIME_TYPE\n",
       "      );\n",
       "      this.keyboard_manager.register_events(toinsert);\n",
       "      // Render to node\n",
       "      var props = {data: data, metadata: metadata[EXEC_MIME_TYPE]};\n",
       "      render(props, toinsert[toinsert.length - 1]);\n",
       "      element.append(toinsert);\n",
       "      return toinsert\n",
       "    }\n",
       "\n",
       "    /* Handle when an output is cleared or removed */\n",
       "    events.on('clear_output.CodeCell', handleClearOutput);\n",
       "    events.on('delete.Cell', handleClearOutput);\n",
       "\n",
       "    /* Handle when a new output is added */\n",
       "    events.on('output_added.OutputArea', handleAddOutput);\n",
       "\n",
       "    /**\n",
       "     * Register the mime type and append_mime function with output_area\n",
       "     */\n",
       "    OutputArea.prototype.register_mime_type(EXEC_MIME_TYPE, append_mime, {\n",
       "      /* Is output safe? */\n",
       "      safe: true,\n",
       "      /* Index of renderer in `output_area.display_order` */\n",
       "      index: 0\n",
       "    });\n",
       "  }\n",
       "\n",
       "  // register the mime type if in Jupyter Notebook environment and previously unregistered\n",
       "  if (root.Jupyter !== undefined) {\n",
       "    var events = require('base/js/events');\n",
       "    var OutputArea = require('notebook/js/outputarea').OutputArea;\n",
       "\n",
       "    if (OutputArea.prototype.mime_types().indexOf(EXEC_MIME_TYPE) == -1) {\n",
       "      register_renderer(events, OutputArea);\n",
       "    }\n",
       "  }\n",
       "\n",
       "  \n",
       "  if (typeof (root._bokeh_timeout) === \"undefined\" || force === true) {\n",
       "    root._bokeh_timeout = Date.now() + 5000;\n",
       "    root._bokeh_failed_load = false;\n",
       "  }\n",
       "\n",
       "  var NB_LOAD_WARNING = {'data': {'text/html':\n",
       "     \"<div style='background-color: #fdd'>\\n\"+\n",
       "     \"<p>\\n\"+\n",
       "     \"BokehJS does not appear to have successfully loaded. If loading BokehJS from CDN, this \\n\"+\n",
       "     \"may be due to a slow or bad network connection. Possible fixes:\\n\"+\n",
       "     \"</p>\\n\"+\n",
       "     \"<ul>\\n\"+\n",
       "     \"<li>re-rerun `output_notebook()` to attempt to load from CDN again, or</li>\\n\"+\n",
       "     \"<li>use INLINE resources instead, as so:</li>\\n\"+\n",
       "     \"</ul>\\n\"+\n",
       "     \"<code>\\n\"+\n",
       "     \"from bokeh.resources import INLINE\\n\"+\n",
       "     \"output_notebook(resources=INLINE)\\n\"+\n",
       "     \"</code>\\n\"+\n",
       "     \"</div>\"}};\n",
       "\n",
       "  function display_loaded() {\n",
       "    var el = document.getElementById(\"1001\");\n",
       "    if (el != null) {\n",
       "      el.textContent = \"BokehJS is loading...\";\n",
       "    }\n",
       "    if (root.Bokeh !== undefined) {\n",
       "      if (el != null) {\n",
       "        el.textContent = \"BokehJS \" + root.Bokeh.version + \" successfully loaded.\";\n",
       "      }\n",
       "    } else if (Date.now() < root._bokeh_timeout) {\n",
       "      setTimeout(display_loaded, 100)\n",
       "    }\n",
       "  }\n",
       "\n",
       "\n",
       "  function run_callbacks() {\n",
       "    try {\n",
       "      root._bokeh_onload_callbacks.forEach(function(callback) {\n",
       "        if (callback != null)\n",
       "          callback();\n",
       "      });\n",
       "    } finally {\n",
       "      delete root._bokeh_onload_callbacks\n",
       "    }\n",
       "    console.debug(\"Bokeh: all callbacks have finished\");\n",
       "  }\n",
       "\n",
       "  function load_libs(css_urls, js_urls, callback) {\n",
       "    if (css_urls == null) css_urls = [];\n",
       "    if (js_urls == null) js_urls = [];\n",
       "\n",
       "    root._bokeh_onload_callbacks.push(callback);\n",
       "    if (root._bokeh_is_loading > 0) {\n",
       "      console.debug(\"Bokeh: BokehJS is being loaded, scheduling callback at\", now());\n",
       "      return null;\n",
       "    }\n",
       "    if (js_urls == null || js_urls.length === 0) {\n",
       "      run_callbacks();\n",
       "      return null;\n",
       "    }\n",
       "    console.debug(\"Bokeh: BokehJS not loaded, scheduling load and callback at\", now());\n",
       "    root._bokeh_is_loading = css_urls.length + js_urls.length;\n",
       "\n",
       "    function on_load() {\n",
       "      root._bokeh_is_loading--;\n",
       "      if (root._bokeh_is_loading === 0) {\n",
       "        console.debug(\"Bokeh: all BokehJS libraries/stylesheets loaded\");\n",
       "        run_callbacks()\n",
       "      }\n",
       "    }\n",
       "\n",
       "    function on_error() {\n",
       "      console.error(\"failed to load \" + url);\n",
       "    }\n",
       "\n",
       "    for (var i = 0; i < css_urls.length; i++) {\n",
       "      var url = css_urls[i];\n",
       "      const element = document.createElement(\"link\");\n",
       "      element.onload = on_load;\n",
       "      element.onerror = on_error;\n",
       "      element.rel = \"stylesheet\";\n",
       "      element.type = \"text/css\";\n",
       "      element.href = url;\n",
       "      console.debug(\"Bokeh: injecting link tag for BokehJS stylesheet: \", url);\n",
       "      document.body.appendChild(element);\n",
       "    }\n",
       "\n",
       "    for (var i = 0; i < js_urls.length; i++) {\n",
       "      var url = js_urls[i];\n",
       "      var element = document.createElement('script');\n",
       "      element.onload = on_load;\n",
       "      element.onerror = on_error;\n",
       "      element.async = false;\n",
       "      element.src = url;\n",
       "      console.debug(\"Bokeh: injecting script tag for BokehJS library: \", url);\n",
       "      document.head.appendChild(element);\n",
       "    }\n",
       "  };var element = document.getElementById(\"1001\");\n",
       "  if (element == null) {\n",
       "    console.error(\"Bokeh: ERROR: autoload.js configured with elementid '1001' but no matching script tag was found. \")\n",
       "    return false;\n",
       "  }\n",
       "\n",
       "  function inject_raw_css(css) {\n",
       "    const element = document.createElement(\"style\");\n",
       "    element.appendChild(document.createTextNode(css));\n",
       "    document.body.appendChild(element);\n",
       "  }\n",
       "\n",
       "  var js_urls = [\"https://cdn.pydata.org/bokeh/release/bokeh-1.3.4.min.js\", \"https://cdn.pydata.org/bokeh/release/bokeh-widgets-1.3.4.min.js\", \"https://cdn.pydata.org/bokeh/release/bokeh-tables-1.3.4.min.js\", \"https://cdn.pydata.org/bokeh/release/bokeh-gl-1.3.4.min.js\"];\n",
       "  var css_urls = [];\n",
       "\n",
       "  var inline_js = [\n",
       "    function(Bokeh) {\n",
       "      Bokeh.set_log_level(\"info\");\n",
       "    },\n",
       "    \n",
       "    function(Bokeh) {\n",
       "      \n",
       "    },\n",
       "    function(Bokeh) {} // ensure no trailing comma for IE\n",
       "  ];\n",
       "\n",
       "  function run_inline_js() {\n",
       "    \n",
       "    if ((root.Bokeh !== undefined) || (force === true)) {\n",
       "      for (var i = 0; i < inline_js.length; i++) {\n",
       "        inline_js[i].call(root, root.Bokeh);\n",
       "      }if (force === true) {\n",
       "        display_loaded();\n",
       "      }} else if (Date.now() < root._bokeh_timeout) {\n",
       "      setTimeout(run_inline_js, 100);\n",
       "    } else if (!root._bokeh_failed_load) {\n",
       "      console.log(\"Bokeh: BokehJS failed to load within specified timeout.\");\n",
       "      root._bokeh_failed_load = true;\n",
       "    } else if (force !== true) {\n",
       "      var cell = $(document.getElementById(\"1001\")).parents('.cell').data().cell;\n",
       "      cell.output_area.append_execute_result(NB_LOAD_WARNING)\n",
       "    }\n",
       "\n",
       "  }\n",
       "\n",
       "  if (root._bokeh_is_loading === 0) {\n",
       "    console.debug(\"Bokeh: BokehJS loaded, going straight to plotting\");\n",
       "    run_inline_js();\n",
       "  } else {\n",
       "    load_libs(css_urls, js_urls, function() {\n",
       "      console.debug(\"Bokeh: BokehJS plotting callback run at\", now());\n",
       "      run_inline_js();\n",
       "    });\n",
       "  }\n",
       "}(window));"
      ],
      "application/vnd.bokehjs_load.v0+json": "\n(function(root) {\n  function now() {\n    return new Date();\n  }\n\n  var force = true;\n\n  if (typeof root._bokeh_onload_callbacks === \"undefined\" || force === true) {\n    root._bokeh_onload_callbacks = [];\n    root._bokeh_is_loading = undefined;\n  }\n\n  \n\n  \n  if (typeof (root._bokeh_timeout) === \"undefined\" || force === true) {\n    root._bokeh_timeout = Date.now() + 5000;\n    root._bokeh_failed_load = false;\n  }\n\n  var NB_LOAD_WARNING = {'data': {'text/html':\n     \"<div style='background-color: #fdd'>\\n\"+\n     \"<p>\\n\"+\n     \"BokehJS does not appear to have successfully loaded. If loading BokehJS from CDN, this \\n\"+\n     \"may be due to a slow or bad network connection. Possible fixes:\\n\"+\n     \"</p>\\n\"+\n     \"<ul>\\n\"+\n     \"<li>re-rerun `output_notebook()` to attempt to load from CDN again, or</li>\\n\"+\n     \"<li>use INLINE resources instead, as so:</li>\\n\"+\n     \"</ul>\\n\"+\n     \"<code>\\n\"+\n     \"from bokeh.resources import INLINE\\n\"+\n     \"output_notebook(resources=INLINE)\\n\"+\n     \"</code>\\n\"+\n     \"</div>\"}};\n\n  function display_loaded() {\n    var el = document.getElementById(\"1001\");\n    if (el != null) {\n      el.textContent = \"BokehJS is loading...\";\n    }\n    if (root.Bokeh !== undefined) {\n      if (el != null) {\n        el.textContent = \"BokehJS \" + root.Bokeh.version + \" successfully loaded.\";\n      }\n    } else if (Date.now() < root._bokeh_timeout) {\n      setTimeout(display_loaded, 100)\n    }\n  }\n\n\n  function run_callbacks() {\n    try {\n      root._bokeh_onload_callbacks.forEach(function(callback) {\n        if (callback != null)\n          callback();\n      });\n    } finally {\n      delete root._bokeh_onload_callbacks\n    }\n    console.debug(\"Bokeh: all callbacks have finished\");\n  }\n\n  function load_libs(css_urls, js_urls, callback) {\n    if (css_urls == null) css_urls = [];\n    if (js_urls == null) js_urls = [];\n\n    root._bokeh_onload_callbacks.push(callback);\n    if (root._bokeh_is_loading > 0) {\n      console.debug(\"Bokeh: BokehJS is being loaded, scheduling callback at\", now());\n      return null;\n    }\n    if (js_urls == null || js_urls.length === 0) {\n      run_callbacks();\n      return null;\n    }\n    console.debug(\"Bokeh: BokehJS not loaded, scheduling load and callback at\", now());\n    root._bokeh_is_loading = css_urls.length + js_urls.length;\n\n    function on_load() {\n      root._bokeh_is_loading--;\n      if (root._bokeh_is_loading === 0) {\n        console.debug(\"Bokeh: all BokehJS libraries/stylesheets loaded\");\n        run_callbacks()\n      }\n    }\n\n    function on_error() {\n      console.error(\"failed to load \" + url);\n    }\n\n    for (var i = 0; i < css_urls.length; i++) {\n      var url = css_urls[i];\n      const element = document.createElement(\"link\");\n      element.onload = on_load;\n      element.onerror = on_error;\n      element.rel = \"stylesheet\";\n      element.type = \"text/css\";\n      element.href = url;\n      console.debug(\"Bokeh: injecting link tag for BokehJS stylesheet: \", url);\n      document.body.appendChild(element);\n    }\n\n    for (var i = 0; i < js_urls.length; i++) {\n      var url = js_urls[i];\n      var element = document.createElement('script');\n      element.onload = on_load;\n      element.onerror = on_error;\n      element.async = false;\n      element.src = url;\n      console.debug(\"Bokeh: injecting script tag for BokehJS library: \", url);\n      document.head.appendChild(element);\n    }\n  };var element = document.getElementById(\"1001\");\n  if (element == null) {\n    console.error(\"Bokeh: ERROR: autoload.js configured with elementid '1001' but no matching script tag was found. \")\n    return false;\n  }\n\n  function inject_raw_css(css) {\n    const element = document.createElement(\"style\");\n    element.appendChild(document.createTextNode(css));\n    document.body.appendChild(element);\n  }\n\n  var js_urls = [\"https://cdn.pydata.org/bokeh/release/bokeh-1.3.4.min.js\", \"https://cdn.pydata.org/bokeh/release/bokeh-widgets-1.3.4.min.js\", \"https://cdn.pydata.org/bokeh/release/bokeh-tables-1.3.4.min.js\", \"https://cdn.pydata.org/bokeh/release/bokeh-gl-1.3.4.min.js\"];\n  var css_urls = [];\n\n  var inline_js = [\n    function(Bokeh) {\n      Bokeh.set_log_level(\"info\");\n    },\n    \n    function(Bokeh) {\n      \n    },\n    function(Bokeh) {} // ensure no trailing comma for IE\n  ];\n\n  function run_inline_js() {\n    \n    if ((root.Bokeh !== undefined) || (force === true)) {\n      for (var i = 0; i < inline_js.length; i++) {\n        inline_js[i].call(root, root.Bokeh);\n      }if (force === true) {\n        display_loaded();\n      }} else if (Date.now() < root._bokeh_timeout) {\n      setTimeout(run_inline_js, 100);\n    } else if (!root._bokeh_failed_load) {\n      console.log(\"Bokeh: BokehJS failed to load within specified timeout.\");\n      root._bokeh_failed_load = true;\n    } else if (force !== true) {\n      var cell = $(document.getElementById(\"1001\")).parents('.cell').data().cell;\n      cell.output_area.append_execute_result(NB_LOAD_WARNING)\n    }\n\n  }\n\n  if (root._bokeh_is_loading === 0) {\n    console.debug(\"Bokeh: BokehJS loaded, going straight to plotting\");\n    run_inline_js();\n  } else {\n    load_libs(css_urls, js_urls, function() {\n      console.debug(\"Bokeh: BokehJS plotting callback run at\", now());\n      run_inline_js();\n    });\n  }\n}(window));"
     },
     "metadata": {},
     "output_type": "display_data"
    }
   ],
   "source": [
    "output_notebook()"
   ]
  },
  {
   "cell_type": "markdown",
   "metadata": {},
   "source": [
    "This notebook uses Bokeh sample data. If you haven't downloaded it already, this can be downloaded by running the following:"
   ]
  },
  {
   "cell_type": "code",
   "execution_count": 3,
   "metadata": {
    "jupyter": {
     "outputs_hidden": true
    }
   },
   "outputs": [
    {
     "name": "stdout",
     "output_type": "stream",
     "text": [
      "Using data directory: /Users/margaridajervis/.bokeh/data\n",
      "Downloading: CGM.csv (1589982 bytes)\n",
      "   1589982 [100.00%]\n",
      "Downloading: US_Counties.zip (3171836 bytes)\n",
      "   3171836 [100.00%]\n",
      "Unpacking: US_Counties.csv\n",
      "Downloading: us_cities.json (713565 bytes)\n",
      "    713565 [100.00%]\n",
      "Downloading: unemployment09.csv (253301 bytes)\n",
      "    253301 [100.00%]\n",
      "Downloading: AAPL.csv (166698 bytes)\n",
      "    166698 [100.00%]\n",
      "Downloading: FB.csv (9706 bytes)\n",
      "      9706 [100.00%]\n",
      "Downloading: GOOG.csv (113894 bytes)\n",
      "    113894 [100.00%]\n",
      "Downloading: IBM.csv (165625 bytes)\n",
      "    165625 [100.00%]\n",
      "Downloading: MSFT.csv (161614 bytes)\n",
      "    161614 [100.00%]\n",
      "Downloading: WPP2012_SA_DB03_POPULATION_QUINQUENNIAL.zip (4816256 bytes)\n",
      "   4816256 [100.00%]\n",
      "Unpacking: WPP2012_SA_DB03_POPULATION_QUINQUENNIAL.csv\n",
      "Downloading: gapminder_fertility.csv (64346 bytes)\n",
      "     64346 [100.00%]\n",
      "Downloading: gapminder_population.csv (94509 bytes)\n",
      "     94509 [100.00%]\n",
      "Downloading: gapminder_life_expectancy.csv (73243 bytes)\n",
      "     73243 [100.00%]\n",
      "Downloading: gapminder_regions.csv (7781 bytes)\n",
      "      7781 [100.00%]\n",
      "Downloading: world_cities.zip (645274 bytes)\n",
      "    645274 [100.00%]\n",
      "Unpacking: world_cities.csv\n",
      "Downloading: airports.json (6373 bytes)\n",
      "      6373 [100.00%]\n",
      "Downloading: movies.db.zip (5053420 bytes)\n",
      "   5053420 [100.00%]\n",
      "Unpacking: movies.db\n",
      "Downloading: airports.csv (203190 bytes)\n",
      "    203190 [100.00%]\n",
      "Downloading: routes.csv (377280 bytes)\n",
      "    377280 [100.00%]\n",
      "Downloading: haarcascade_frontalface_default.xml (930127 bytes)\n",
      "    930127 [100.00%]\n"
     ]
    }
   ],
   "source": [
    "import bokeh.sampledata\n",
    "bokeh.sampledata.download()"
   ]
  },
  {
   "cell_type": "markdown",
   "metadata": {
    "Collapsed": "false"
   },
   "source": [
    "Before we get started, it's useful to describe how colors and properties are specified in Bokeh. \n",
    "\n",
    "# Colors\n",
    "\n",
    "There are many places where you may need to specify colors. Bokeh can accept colors in a variety of different ways:\n",
    "\n",
    "* any of the [140 named HTML/CSS colors](https://www.w3schools.com/colors/colors_names.asp), e.g ``'green'``, ``'indigo'``\n",
    "* an RGB(A) hex value, e.g., ``'#FF0000'``, ``'#44444444'``\n",
    "* a 3-tuple of integers *(r,g,b)* between 0 and 255\n",
    "*  a 4-tuple of *(r,g,b,a)* where *r*, *g*, *b* are integers between 0 and 255 and *a* is a floating point value between 0 and 1\n",
    "\n",
    "\n",
    "\n",
    "## Properties\n",
    "\n",
    "Regardless of how a Bokeh plot is created, styling the visual aspects of the plot can always be accomplished by setting attributes on the Bokeh objects that comprise the resulting plot. Visual properties come in three kinds: line, fill, and text properties. For full information with code and examples see the [Styling Visual Properties](https://bokeh.pydata.org/en/latest/docs/user_guide/styling.html) section of the user guide. \n",
    "\n",
    "----\n",
    "\n",
    "### Line Properties\n",
    "\n",
    "Set the visual appearance of lines. The most common are ``line_color``, ``line_alpha``, ``line_width`` and ``line_dash``.\n",
    "\n",
    "### Fill Properties\n",
    "\n",
    "Set the visual appearance of filled areas: ``fill_color`` and ``fill_alpha``.\n",
    "\n",
    "### Text Properties\n",
    "\n",
    "Set the visual appearance of lines of text. The most common are ``text_font``, ``text_font_size``, ``text_color``, and ``text_alpha``.\n",
    "\n",
    "----\n",
    "\n",
    "Sometimes a prefix is used with property names, e.g. to distinguish between different line properties on the same object, or to give a more meaningful name. For example, to set the line width of the plot outline, you would say ``myplot.outline_line_width = 2``. "
   ]
  },
  {
   "cell_type": "markdown",
   "metadata": {
    "Collapsed": "false"
   },
   "source": [
    "# Plots\n",
    "\n",
    "Many top-level attributes of plots (outline, border, etc.) can be configured. See the [Plots](https://bokeh.pydata.org/en/latest/docs/user_guide/styling.html#plots) section of the styling guide for full information. \n",
    "\n",
    "Here is an example that tweaks the plot outline:"
   ]
  },
  {
   "cell_type": "code",
   "execution_count": 9,
   "metadata": {
    "Collapsed": "false"
   },
   "outputs": [
    {
     "data": {
      "text/html": [
       "\n",
       "\n",
       "\n",
       "\n",
       "\n",
       "\n",
       "  <div class=\"bk-root\" id=\"4787158a-2833-4104-b897-e5ef3b5f3938\" data-root-id=\"1490\"></div>\n"
      ]
     },
     "metadata": {},
     "output_type": "display_data"
    },
    {
     "data": {
      "application/javascript": [
       "(function(root) {\n",
       "  function embed_document(root) {\n",
       "    \n",
       "  var docs_json = {\"a8ff80b4-c150-474f-bae7-e9181ef3ca59\":{\"roots\":{\"references\":[{\"attributes\":{\"below\":[{\"id\":\"1499\",\"type\":\"LinearAxis\"}],\"center\":[{\"id\":\"1503\",\"type\":\"Grid\"},{\"id\":\"1508\",\"type\":\"Grid\"}],\"left\":[{\"id\":\"1504\",\"type\":\"LinearAxis\"}],\"outline_line_alpha\":{\"value\":0.3},\"outline_line_color\":{\"value\":\"navy\"},\"outline_line_width\":{\"value\":7},\"plot_height\":400,\"plot_width\":400,\"renderers\":[{\"id\":\"1525\",\"type\":\"GlyphRenderer\"}],\"title\":{\"id\":\"1563\",\"type\":\"Title\"},\"toolbar\":{\"id\":\"1515\",\"type\":\"Toolbar\"},\"x_range\":{\"id\":\"1491\",\"type\":\"DataRange1d\"},\"x_scale\":{\"id\":\"1495\",\"type\":\"LinearScale\"},\"y_range\":{\"id\":\"1493\",\"type\":\"DataRange1d\"},\"y_scale\":{\"id\":\"1497\",\"type\":\"LinearScale\"}},\"id\":\"1490\",\"subtype\":\"Figure\",\"type\":\"Plot\"},{\"attributes\":{},\"id\":\"1505\",\"type\":\"BasicTicker\"},{\"attributes\":{\"source\":{\"id\":\"1522\",\"type\":\"ColumnDataSource\"}},\"id\":\"1526\",\"type\":\"CDSView\"},{\"attributes\":{\"text\":\"\"},\"id\":\"1563\",\"type\":\"Title\"},{\"attributes\":{\"dimension\":1,\"ticker\":{\"id\":\"1505\",\"type\":\"BasicTicker\"}},\"id\":\"1508\",\"type\":\"Grid\"},{\"attributes\":{\"formatter\":{\"id\":\"1568\",\"type\":\"BasicTickFormatter\"},\"ticker\":{\"id\":\"1505\",\"type\":\"BasicTicker\"}},\"id\":\"1504\",\"type\":\"LinearAxis\"},{\"attributes\":{\"callback\":null,\"data\":{\"x\":[1,2,3,4,5],\"y\":[2,5,8,2,7]},\"selected\":{\"id\":\"1570\",\"type\":\"Selection\"},\"selection_policy\":{\"id\":\"1569\",\"type\":\"UnionRenderers\"}},\"id\":\"1522\",\"type\":\"ColumnDataSource\"},{\"attributes\":{},\"id\":\"1495\",\"type\":\"LinearScale\"},{\"attributes\":{},\"id\":\"1569\",\"type\":\"UnionRenderers\"},{\"attributes\":{},\"id\":\"1497\",\"type\":\"LinearScale\"},{\"attributes\":{},\"id\":\"1566\",\"type\":\"BasicTickFormatter\"},{\"attributes\":{\"fill_alpha\":{\"value\":0.1},\"fill_color\":{\"value\":\"#1f77b4\"},\"line_alpha\":{\"value\":0.1},\"line_color\":{\"value\":\"#1f77b4\"},\"size\":{\"units\":\"screen\",\"value\":10},\"x\":{\"field\":\"x\"},\"y\":{\"field\":\"y\"}},\"id\":\"1524\",\"type\":\"Circle\"},{\"attributes\":{},\"id\":\"1568\",\"type\":\"BasicTickFormatter\"},{\"attributes\":{\"formatter\":{\"id\":\"1566\",\"type\":\"BasicTickFormatter\"},\"ticker\":{\"id\":\"1500\",\"type\":\"BasicTicker\"}},\"id\":\"1499\",\"type\":\"LinearAxis\"},{\"attributes\":{\"active_drag\":\"auto\",\"active_inspect\":\"auto\",\"active_multi\":null,\"active_scroll\":\"auto\",\"active_tap\":\"auto\",\"tools\":[{\"id\":\"1509\",\"type\":\"PanTool\"},{\"id\":\"1510\",\"type\":\"WheelZoomTool\"},{\"id\":\"1511\",\"type\":\"BoxZoomTool\"},{\"id\":\"1512\",\"type\":\"SaveTool\"},{\"id\":\"1513\",\"type\":\"ResetTool\"},{\"id\":\"1514\",\"type\":\"HelpTool\"}]},\"id\":\"1515\",\"type\":\"Toolbar\"},{\"attributes\":{\"fill_color\":{\"value\":\"#1f77b4\"},\"line_color\":{\"value\":\"#1f77b4\"},\"size\":{\"units\":\"screen\",\"value\":10},\"x\":{\"field\":\"x\"},\"y\":{\"field\":\"y\"}},\"id\":\"1523\",\"type\":\"Circle\"},{\"attributes\":{\"ticker\":{\"id\":\"1500\",\"type\":\"BasicTicker\"}},\"id\":\"1503\",\"type\":\"Grid\"},{\"attributes\":{},\"id\":\"1570\",\"type\":\"Selection\"},{\"attributes\":{},\"id\":\"1509\",\"type\":\"PanTool\"},{\"attributes\":{\"bottom_units\":\"screen\",\"fill_alpha\":{\"value\":0.5},\"fill_color\":{\"value\":\"lightgrey\"},\"left_units\":\"screen\",\"level\":\"overlay\",\"line_alpha\":{\"value\":1.0},\"line_color\":{\"value\":\"black\"},\"line_dash\":[4,4],\"line_width\":{\"value\":2},\"render_mode\":\"css\",\"right_units\":\"screen\",\"top_units\":\"screen\"},\"id\":\"1571\",\"type\":\"BoxAnnotation\"},{\"attributes\":{},\"id\":\"1510\",\"type\":\"WheelZoomTool\"},{\"attributes\":{\"callback\":null},\"id\":\"1493\",\"type\":\"DataRange1d\"},{\"attributes\":{\"overlay\":{\"id\":\"1571\",\"type\":\"BoxAnnotation\"}},\"id\":\"1511\",\"type\":\"BoxZoomTool\"},{\"attributes\":{\"callback\":null},\"id\":\"1491\",\"type\":\"DataRange1d\"},{\"attributes\":{},\"id\":\"1512\",\"type\":\"SaveTool\"},{\"attributes\":{},\"id\":\"1513\",\"type\":\"ResetTool\"},{\"attributes\":{},\"id\":\"1514\",\"type\":\"HelpTool\"},{\"attributes\":{\"data_source\":{\"id\":\"1522\",\"type\":\"ColumnDataSource\"},\"glyph\":{\"id\":\"1523\",\"type\":\"Circle\"},\"hover_glyph\":null,\"muted_glyph\":null,\"nonselection_glyph\":{\"id\":\"1524\",\"type\":\"Circle\"},\"selection_glyph\":null,\"view\":{\"id\":\"1526\",\"type\":\"CDSView\"}},\"id\":\"1525\",\"type\":\"GlyphRenderer\"},{\"attributes\":{},\"id\":\"1500\",\"type\":\"BasicTicker\"}],\"root_ids\":[\"1490\"]},\"title\":\"Bokeh Application\",\"version\":\"1.3.4\"}};\n",
       "  var render_items = [{\"docid\":\"a8ff80b4-c150-474f-bae7-e9181ef3ca59\",\"roots\":{\"1490\":\"4787158a-2833-4104-b897-e5ef3b5f3938\"}}];\n",
       "  root.Bokeh.embed.embed_items_notebook(docs_json, render_items);\n",
       "\n",
       "  }\n",
       "  if (root.Bokeh !== undefined) {\n",
       "    embed_document(root);\n",
       "  } else {\n",
       "    var attempts = 0;\n",
       "    var timer = setInterval(function(root) {\n",
       "      if (root.Bokeh !== undefined) {\n",
       "        embed_document(root);\n",
       "        clearInterval(timer);\n",
       "      }\n",
       "      attempts++;\n",
       "      if (attempts > 100) {\n",
       "        console.log(\"Bokeh: ERROR: Unable to run BokehJS code because BokehJS library is missing\");\n",
       "        clearInterval(timer);\n",
       "      }\n",
       "    }, 10, root)\n",
       "  }\n",
       "})(window);"
      ],
      "application/vnd.bokehjs_exec.v0+json": ""
     },
     "metadata": {
      "application/vnd.bokehjs_exec.v0+json": {
       "id": "1490"
      }
     },
     "output_type": "display_data"
    }
   ],
   "source": [
    "# create a new plot with a title\n",
    "p = figure(plot_width=400, plot_height=400)\n",
    "p.outline_line_width = 7\n",
    "p.outline_line_alpha = 0.3\n",
    "p.outline_line_color = \"navy\"\n",
    "\n",
    "p.circle([1,2,3,4,5], [2,5,8,2,7], size=10)\n",
    "\n",
    "show(p)"
   ]
  },
  {
   "cell_type": "code",
   "execution_count": 37,
   "metadata": {
    "Collapsed": "false"
   },
   "outputs": [
    {
     "data": {
      "text/html": [
       "\n",
       "\n",
       "\n",
       "\n",
       "\n",
       "\n",
       "  <div class=\"bk-root\" id=\"19235324-d481-494f-bf3a-b2635d891093\" data-root-id=\"5891\"></div>\n"
      ]
     },
     "metadata": {},
     "output_type": "display_data"
    },
    {
     "data": {
      "application/javascript": [
       "(function(root) {\n",
       "  function embed_document(root) {\n",
       "    \n",
       "  var docs_json = {\"700f200d-17b9-4994-b1cd-3794908df19a\":{\"roots\":{\"references\":[{\"attributes\":{\"background_fill_alpha\":{\"value\":0.05},\"background_fill_color\":{\"value\":\"olive\"},\"below\":[{\"id\":\"5902\",\"type\":\"LinearAxis\"}],\"center\":[{\"id\":\"5906\",\"type\":\"Grid\"},{\"id\":\"5911\",\"type\":\"Grid\"}],\"left\":[{\"id\":\"5907\",\"type\":\"LinearAxis\"}],\"outline_line_alpha\":{\"value\":0.3},\"outline_line_color\":{\"value\":\"olive\"},\"outline_line_width\":{\"value\":4},\"plot_height\":400,\"plot_width\":400,\"renderers\":[{\"id\":\"5928\",\"type\":\"GlyphRenderer\"}],\"title\":{\"id\":\"5892\",\"type\":\"Title\"},\"toolbar\":{\"id\":\"5918\",\"type\":\"Toolbar\"},\"x_range\":{\"id\":\"5894\",\"type\":\"DataRange1d\"},\"x_scale\":{\"id\":\"5898\",\"type\":\"LinearScale\"},\"y_range\":{\"id\":\"5896\",\"type\":\"DataRange1d\"},\"y_scale\":{\"id\":\"5900\",\"type\":\"LinearScale\"}},\"id\":\"5891\",\"subtype\":\"Figure\",\"type\":\"Plot\"},{\"attributes\":{\"active_drag\":\"auto\",\"active_inspect\":\"auto\",\"active_multi\":null,\"active_scroll\":\"auto\",\"active_tap\":\"auto\",\"tools\":[{\"id\":\"5912\",\"type\":\"PanTool\"},{\"id\":\"5913\",\"type\":\"WheelZoomTool\"},{\"id\":\"5914\",\"type\":\"BoxZoomTool\"},{\"id\":\"5915\",\"type\":\"SaveTool\"},{\"id\":\"5916\",\"type\":\"ResetTool\"},{\"id\":\"5917\",\"type\":\"HelpTool\"}]},\"id\":\"5918\",\"type\":\"Toolbar\"},{\"attributes\":{\"fill_color\":{\"value\":\"#009999\"},\"line_color\":{\"value\":\"#009999\"},\"size\":{\"units\":\"screen\",\"value\":10},\"x\":{\"field\":\"x\"},\"y\":{\"field\":\"y\"}},\"id\":\"5926\",\"type\":\"Circle\"},{\"attributes\":{\"text\":\"My plot\",\"text_color\":{\"value\":\"olive\"},\"text_font\":\"arial\",\"text_font_size\":{\"value\":\"22px\"},\"text_font_style\":\"italic\"},\"id\":\"5892\",\"type\":\"Title\"},{\"attributes\":{\"callback\":null,\"data\":{\"x\":[5,10,15,20,25],\"y\":[1,2,3,4,5]},\"selected\":{\"id\":\"6133\",\"type\":\"Selection\"},\"selection_policy\":{\"id\":\"6132\",\"type\":\"UnionRenderers\"}},\"id\":\"5925\",\"type\":\"ColumnDataSource\"},{\"attributes\":{},\"id\":\"5912\",\"type\":\"PanTool\"},{\"attributes\":{\"callback\":null},\"id\":\"5894\",\"type\":\"DataRange1d\"},{\"attributes\":{},\"id\":\"5913\",\"type\":\"WheelZoomTool\"},{\"attributes\":{\"overlay\":{\"id\":\"6134\",\"type\":\"BoxAnnotation\"}},\"id\":\"5914\",\"type\":\"BoxZoomTool\"},{\"attributes\":{},\"id\":\"5898\",\"type\":\"LinearScale\"},{\"attributes\":{},\"id\":\"6129\",\"type\":\"BasicTickFormatter\"},{\"attributes\":{},\"id\":\"5915\",\"type\":\"SaveTool\"},{\"attributes\":{\"callback\":null},\"id\":\"5896\",\"type\":\"DataRange1d\"},{\"attributes\":{},\"id\":\"5916\",\"type\":\"ResetTool\"},{\"attributes\":{},\"id\":\"5900\",\"type\":\"LinearScale\"},{\"attributes\":{},\"id\":\"5917\",\"type\":\"HelpTool\"},{\"attributes\":{\"formatter\":{\"id\":\"6129\",\"type\":\"BasicTickFormatter\"},\"ticker\":{\"id\":\"5903\",\"type\":\"BasicTicker\"}},\"id\":\"5902\",\"type\":\"LinearAxis\"},{\"attributes\":{\"data_source\":{\"id\":\"5925\",\"type\":\"ColumnDataSource\"},\"glyph\":{\"id\":\"5926\",\"type\":\"Circle\"},\"hover_glyph\":null,\"muted_glyph\":null,\"nonselection_glyph\":{\"id\":\"5927\",\"type\":\"Circle\"},\"selection_glyph\":null,\"view\":{\"id\":\"5929\",\"type\":\"CDSView\"}},\"id\":\"5928\",\"type\":\"GlyphRenderer\"},{\"attributes\":{\"dimension\":1,\"ticker\":{\"id\":\"5908\",\"type\":\"BasicTicker\"}},\"id\":\"5911\",\"type\":\"Grid\"},{\"attributes\":{},\"id\":\"5903\",\"type\":\"BasicTicker\"},{\"attributes\":{\"ticker\":{\"id\":\"5903\",\"type\":\"BasicTicker\"}},\"id\":\"5906\",\"type\":\"Grid\"},{\"attributes\":{},\"id\":\"5908\",\"type\":\"BasicTicker\"},{\"attributes\":{},\"id\":\"6133\",\"type\":\"Selection\"},{\"attributes\":{\"source\":{\"id\":\"5925\",\"type\":\"ColumnDataSource\"}},\"id\":\"5929\",\"type\":\"CDSView\"},{\"attributes\":{},\"id\":\"6131\",\"type\":\"BasicTickFormatter\"},{\"attributes\":{\"formatter\":{\"id\":\"6131\",\"type\":\"BasicTickFormatter\"},\"ticker\":{\"id\":\"5908\",\"type\":\"BasicTicker\"}},\"id\":\"5907\",\"type\":\"LinearAxis\"},{\"attributes\":{\"bottom_units\":\"screen\",\"fill_alpha\":{\"value\":0.5},\"fill_color\":{\"value\":\"lightgrey\"},\"left_units\":\"screen\",\"level\":\"overlay\",\"line_alpha\":{\"value\":1.0},\"line_color\":{\"value\":\"black\"},\"line_dash\":[4,4],\"line_width\":{\"value\":2},\"render_mode\":\"css\",\"right_units\":\"screen\",\"top_units\":\"screen\"},\"id\":\"6134\",\"type\":\"BoxAnnotation\"},{\"attributes\":{\"fill_alpha\":{\"value\":0.1},\"fill_color\":{\"value\":\"#1f77b4\"},\"line_alpha\":{\"value\":0.1},\"line_color\":{\"value\":\"#1f77b4\"},\"size\":{\"units\":\"screen\",\"value\":10},\"x\":{\"field\":\"x\"},\"y\":{\"field\":\"y\"}},\"id\":\"5927\",\"type\":\"Circle\"},{\"attributes\":{},\"id\":\"6132\",\"type\":\"UnionRenderers\"}],\"root_ids\":[\"5891\"]},\"title\":\"Bokeh Application\",\"version\":\"1.3.4\"}};\n",
       "  var render_items = [{\"docid\":\"700f200d-17b9-4994-b1cd-3794908df19a\",\"roots\":{\"5891\":\"19235324-d481-494f-bf3a-b2635d891093\"}}];\n",
       "  root.Bokeh.embed.embed_items_notebook(docs_json, render_items);\n",
       "\n",
       "  }\n",
       "  if (root.Bokeh !== undefined) {\n",
       "    embed_document(root);\n",
       "  } else {\n",
       "    var attempts = 0;\n",
       "    var timer = setInterval(function(root) {\n",
       "      if (root.Bokeh !== undefined) {\n",
       "        embed_document(root);\n",
       "        clearInterval(timer);\n",
       "      }\n",
       "      attempts++;\n",
       "      if (attempts > 100) {\n",
       "        console.log(\"Bokeh: ERROR: Unable to run BokehJS code because BokehJS library is missing\");\n",
       "        clearInterval(timer);\n",
       "      }\n",
       "    }, 10, root)\n",
       "  }\n",
       "})(window);"
      ],
      "application/vnd.bokehjs_exec.v0+json": ""
     },
     "metadata": {
      "application/vnd.bokehjs_exec.v0+json": {
       "id": "5891"
      }
     },
     "output_type": "display_data"
    }
   ],
   "source": [
    "# EXERCISE Create a plot of your own and customize several plot-level properties\n",
    "\n",
    "# create a new plot with a title\n",
    "mp = figure(plot_width=400, plot_height=400, title='My plot')\n",
    "mp.outline_line_width = 4\n",
    "mp.outline_line_alpha = 0.3\n",
    "mp.outline_line_color = \"olive\"\n",
    "\n",
    "mp.circle([5,10,15,20,25], [1,2,3,4,5], size=10, color='#009999')\n",
    "\n",
    "mp.title.text_color = \"olive\"\n",
    "mp.title.text_font = \"arial\"\n",
    "mp.title.text_font_style = \"italic\"\n",
    "mp.title.text_font_size = '22px'\n",
    "\n",
    "mp.background_fill_color = \"olive\"\n",
    "mp.background_fill_alpha = 0.05\n",
    "\n",
    "show(mp)\n"
   ]
  },
  {
   "cell_type": "markdown",
   "metadata": {
    "Collapsed": "false"
   },
   "source": [
    "# Glyphs\n",
    "\n",
    "It's also possible to style the visual properties of glyphs (see the [Glyphs](https://docs.bokeh.org/en/latest/docs/user_guide/styling.html#glyphs) section of the styling guide for more information). When using `bokeh.plotting` this is often done when calling the glyph methods:\n",
    "```python\n",
    "p.circle(line_color=\"red\", fill_alpha=0.2, ...)\n",
    "```\n",
    "But it is also possible to set these properties directly on glyph objects. Glyph objects are found on `GlyphRenderer` objects, which are returned by the `Plot.add_glyph` and `bokeh.plotting` glyph methods like `circle`, `rect`, etc. Let's look at an example:"
   ]
  },
  {
   "cell_type": "code",
   "execution_count": 38,
   "metadata": {
    "Collapsed": "false"
   },
   "outputs": [
    {
     "data": {
      "text/html": [
       "\n",
       "\n",
       "\n",
       "\n",
       "\n",
       "\n",
       "  <div class=\"bk-root\" id=\"b5ef3c57-a2f6-4436-bfb6-b9385d4d6bd3\" data-root-id=\"6183\"></div>\n"
      ]
     },
     "metadata": {},
     "output_type": "display_data"
    },
    {
     "data": {
      "application/javascript": [
       "(function(root) {\n",
       "  function embed_document(root) {\n",
       "    \n",
       "  var docs_json = {\"354943f8-8d6d-4891-8d06-3a483cbd704e\":{\"roots\":{\"references\":[{\"attributes\":{\"below\":[{\"id\":\"6192\",\"type\":\"LinearAxis\"}],\"center\":[{\"id\":\"6196\",\"type\":\"Grid\"},{\"id\":\"6201\",\"type\":\"Grid\"}],\"left\":[{\"id\":\"6197\",\"type\":\"LinearAxis\"}],\"plot_height\":400,\"plot_width\":400,\"renderers\":[{\"id\":\"6218\",\"type\":\"GlyphRenderer\"}],\"title\":{\"id\":\"6425\",\"type\":\"Title\"},\"toolbar\":{\"id\":\"6208\",\"type\":\"Toolbar\"},\"x_range\":{\"id\":\"6184\",\"type\":\"DataRange1d\"},\"x_scale\":{\"id\":\"6188\",\"type\":\"LinearScale\"},\"y_range\":{\"id\":\"6186\",\"type\":\"DataRange1d\"},\"y_scale\":{\"id\":\"6190\",\"type\":\"LinearScale\"}},\"id\":\"6183\",\"subtype\":\"Figure\",\"type\":\"Plot\"},{\"attributes\":{},\"id\":\"6198\",\"type\":\"BasicTicker\"},{\"attributes\":{},\"id\":\"6432\",\"type\":\"Selection\"},{\"attributes\":{},\"id\":\"6430\",\"type\":\"BasicTickFormatter\"},{\"attributes\":{\"dimension\":1,\"ticker\":{\"id\":\"6198\",\"type\":\"BasicTicker\"}},\"id\":\"6201\",\"type\":\"Grid\"},{\"attributes\":{\"bottom_units\":\"screen\",\"fill_alpha\":{\"value\":0.5},\"fill_color\":{\"value\":\"lightgrey\"},\"left_units\":\"screen\",\"level\":\"overlay\",\"line_alpha\":{\"value\":1.0},\"line_color\":{\"value\":\"black\"},\"line_dash\":[4,4],\"line_width\":{\"value\":2},\"render_mode\":\"css\",\"right_units\":\"screen\",\"top_units\":\"screen\"},\"id\":\"6433\",\"type\":\"BoxAnnotation\"},{\"attributes\":{\"callback\":null},\"id\":\"6184\",\"type\":\"DataRange1d\"},{\"attributes\":{},\"id\":\"6431\",\"type\":\"UnionRenderers\"},{\"attributes\":{\"source\":{\"id\":\"6215\",\"type\":\"ColumnDataSource\"}},\"id\":\"6219\",\"type\":\"CDSView\"},{\"attributes\":{\"fill_alpha\":{\"value\":0.1},\"fill_color\":{\"value\":\"#1f77b4\"},\"line_alpha\":{\"value\":0.1},\"line_color\":{\"value\":\"#1f77b4\"},\"x\":{\"field\":\"x\"},\"y\":{\"field\":\"y\"}},\"id\":\"6217\",\"type\":\"Circle\"},{\"attributes\":{\"active_drag\":\"auto\",\"active_inspect\":\"auto\",\"active_multi\":null,\"active_scroll\":\"auto\",\"active_tap\":\"auto\",\"tools\":[{\"id\":\"6202\",\"type\":\"PanTool\"},{\"id\":\"6203\",\"type\":\"WheelZoomTool\"},{\"id\":\"6204\",\"type\":\"BoxZoomTool\"},{\"id\":\"6205\",\"type\":\"SaveTool\"},{\"id\":\"6206\",\"type\":\"ResetTool\"},{\"id\":\"6207\",\"type\":\"HelpTool\"}]},\"id\":\"6208\",\"type\":\"Toolbar\"},{\"attributes\":{\"ticker\":{\"id\":\"6193\",\"type\":\"BasicTicker\"}},\"id\":\"6196\",\"type\":\"Grid\"},{\"attributes\":{},\"id\":\"6202\",\"type\":\"PanTool\"},{\"attributes\":{},\"id\":\"6193\",\"type\":\"BasicTicker\"},{\"attributes\":{\"callback\":null},\"id\":\"6186\",\"type\":\"DataRange1d\"},{\"attributes\":{},\"id\":\"6203\",\"type\":\"WheelZoomTool\"},{\"attributes\":{\"overlay\":{\"id\":\"6433\",\"type\":\"BoxAnnotation\"}},\"id\":\"6204\",\"type\":\"BoxZoomTool\"},{\"attributes\":{\"callback\":null,\"data\":{\"x\":[1,2,3,4,5],\"y\":[2,5,8,2,7]},\"selected\":{\"id\":\"6432\",\"type\":\"Selection\"},\"selection_policy\":{\"id\":\"6431\",\"type\":\"UnionRenderers\"}},\"id\":\"6215\",\"type\":\"ColumnDataSource\"},{\"attributes\":{},\"id\":\"6205\",\"type\":\"SaveTool\"},{\"attributes\":{},\"id\":\"6206\",\"type\":\"ResetTool\"},{\"attributes\":{},\"id\":\"6188\",\"type\":\"LinearScale\"},{\"attributes\":{\"formatter\":{\"id\":\"6430\",\"type\":\"BasicTickFormatter\"},\"ticker\":{\"id\":\"6198\",\"type\":\"BasicTicker\"}},\"id\":\"6197\",\"type\":\"LinearAxis\"},{\"attributes\":{\"data_source\":{\"id\":\"6215\",\"type\":\"ColumnDataSource\"},\"glyph\":{\"id\":\"6216\",\"type\":\"Circle\"},\"hover_glyph\":null,\"muted_glyph\":null,\"nonselection_glyph\":{\"id\":\"6217\",\"type\":\"Circle\"},\"selection_glyph\":null,\"view\":{\"id\":\"6219\",\"type\":\"CDSView\"}},\"id\":\"6218\",\"type\":\"GlyphRenderer\"},{\"attributes\":{\"text\":\"\"},\"id\":\"6425\",\"type\":\"Title\"},{\"attributes\":{},\"id\":\"6207\",\"type\":\"HelpTool\"},{\"attributes\":{},\"id\":\"6190\",\"type\":\"LinearScale\"},{\"attributes\":{},\"id\":\"6428\",\"type\":\"BasicTickFormatter\"},{\"attributes\":{\"formatter\":{\"id\":\"6428\",\"type\":\"BasicTickFormatter\"},\"ticker\":{\"id\":\"6193\",\"type\":\"BasicTicker\"}},\"id\":\"6192\",\"type\":\"LinearAxis\"},{\"attributes\":{\"fill_alpha\":{\"value\":0.2},\"fill_color\":{\"value\":\"#1f77b4\"},\"line_color\":{\"value\":\"firebrick\"},\"line_dash\":[5,1],\"line_width\":{\"value\":2},\"size\":{\"units\":\"screen\",\"value\":50},\"x\":{\"field\":\"x\"},\"y\":{\"field\":\"y\"}},\"id\":\"6216\",\"type\":\"Circle\"}],\"root_ids\":[\"6183\"]},\"title\":\"Bokeh Application\",\"version\":\"1.3.4\"}};\n",
       "  var render_items = [{\"docid\":\"354943f8-8d6d-4891-8d06-3a483cbd704e\",\"roots\":{\"6183\":\"b5ef3c57-a2f6-4436-bfb6-b9385d4d6bd3\"}}];\n",
       "  root.Bokeh.embed.embed_items_notebook(docs_json, render_items);\n",
       "\n",
       "  }\n",
       "  if (root.Bokeh !== undefined) {\n",
       "    embed_document(root);\n",
       "  } else {\n",
       "    var attempts = 0;\n",
       "    var timer = setInterval(function(root) {\n",
       "      if (root.Bokeh !== undefined) {\n",
       "        embed_document(root);\n",
       "        clearInterval(timer);\n",
       "      }\n",
       "      attempts++;\n",
       "      if (attempts > 100) {\n",
       "        console.log(\"Bokeh: ERROR: Unable to run BokehJS code because BokehJS library is missing\");\n",
       "        clearInterval(timer);\n",
       "      }\n",
       "    }, 10, root)\n",
       "  }\n",
       "})(window);"
      ],
      "application/vnd.bokehjs_exec.v0+json": ""
     },
     "metadata": {
      "application/vnd.bokehjs_exec.v0+json": {
       "id": "6183"
      }
     },
     "output_type": "display_data"
    }
   ],
   "source": [
    "p = figure(plot_width=400, plot_height=400)\n",
    "\n",
    "# keep a reference to the returned GlyphRenderer\n",
    "r = p.circle([1,2,3,4,5], [2,5,8,2,7])\n",
    "\n",
    "r.glyph.size = 50\n",
    "r.glyph.fill_alpha = 0.2\n",
    "r.glyph.line_color = \"firebrick\"\n",
    "r.glyph.line_dash = [5, 1]\n",
    "r.glyph.line_width = 2\n",
    "\n",
    "show(p)"
   ]
  },
  {
   "cell_type": "markdown",
   "metadata": {
    "Collapsed": "false"
   },
   "source": [
    "### Selection and non-selection visuals\n",
    "\n",
    "You can also control how glyphs look when there are selections involved. The set of \"selected\" points is displayed according to the optional `.selection_glyph` property of a `GlyphRenderer`:\n",
    "```python\n",
    "r.selection_glyph = Circle(fill_alpha=1, fill_color=\"firebrick\", line_color=None) \n",
    "```\n",
    "When there is a non-empty selection, the set of \"unselected\" points is displayed according to the optional `.nonselection_glyph` property of a `GlyphRenderer`:\n",
    "```python\n",
    "r.nonselection_glyph = Circle(fill_alpha=0.2, fill_color=\"grey\", line_color=None) \n",
    "```\n",
    "\n",
    "When using the `bokeh.plotting` interface, it is easier to pass these visual properties to the glyph methods as shown below. The glyph method will create the selection or nonselection glyphs and attach them to the renderer for you. "
   ]
  },
  {
   "cell_type": "code",
   "execution_count": 39,
   "metadata": {
    "Collapsed": "false"
   },
   "outputs": [
    {
     "data": {
      "text/html": [
       "\n",
       "\n",
       "\n",
       "\n",
       "\n",
       "\n",
       "  <div class=\"bk-root\" id=\"7378e450-db0a-434f-b1ba-1c0ae4f6aa3c\" data-root-id=\"6488\"></div>\n"
      ]
     },
     "metadata": {},
     "output_type": "display_data"
    },
    {
     "data": {
      "application/javascript": [
       "(function(root) {\n",
       "  function embed_document(root) {\n",
       "    \n",
       "  var docs_json = {\"348f22c4-777f-4d02-ac15-b8350df68148\":{\"roots\":{\"references\":[{\"attributes\":{\"below\":[{\"id\":\"6499\",\"type\":\"LinearAxis\"}],\"center\":[{\"id\":\"6503\",\"type\":\"Grid\"},{\"id\":\"6508\",\"type\":\"Grid\"}],\"left\":[{\"id\":\"6504\",\"type\":\"LinearAxis\"}],\"plot_height\":400,\"plot_width\":400,\"renderers\":[{\"id\":\"6516\",\"type\":\"GlyphRenderer\"}],\"title\":{\"id\":\"6489\",\"type\":\"Title\"},\"toolbar\":{\"id\":\"6510\",\"type\":\"Toolbar\"},\"x_range\":{\"id\":\"6491\",\"type\":\"DataRange1d\"},\"x_scale\":{\"id\":\"6495\",\"type\":\"LinearScale\"},\"y_range\":{\"id\":\"6493\",\"type\":\"DataRange1d\"},\"y_scale\":{\"id\":\"6497\",\"type\":\"LinearScale\"}},\"id\":\"6488\",\"subtype\":\"Figure\",\"type\":\"Plot\"},{\"attributes\":{\"callback\":null},\"id\":\"6491\",\"type\":\"DataRange1d\"},{\"attributes\":{\"active_drag\":\"auto\",\"active_inspect\":\"auto\",\"active_multi\":null,\"active_scroll\":\"auto\",\"active_tap\":\"auto\",\"tools\":[{\"id\":\"6509\",\"type\":\"TapTool\"}]},\"id\":\"6510\",\"type\":\"Toolbar\"},{\"attributes\":{},\"id\":\"6736\",\"type\":\"BasicTickFormatter\"},{\"attributes\":{\"fill_alpha\":{\"value\":0.2},\"fill_color\":{\"value\":\"grey\"},\"line_color\":{\"value\":\"firebrick\"},\"size\":{\"units\":\"screen\",\"value\":50},\"x\":{\"field\":\"x\"},\"y\":{\"field\":\"y\"}},\"id\":\"6514\",\"type\":\"Circle\"},{\"attributes\":{},\"id\":\"6497\",\"type\":\"LinearScale\"},{\"attributes\":{\"fill_color\":{\"value\":\"firebrick\"},\"line_color\":{\"value\":\"firebrick\"},\"size\":{\"units\":\"screen\",\"value\":50},\"x\":{\"field\":\"x\"},\"y\":{\"field\":\"y\"}},\"id\":\"6515\",\"type\":\"Circle\"},{\"attributes\":{\"data_source\":{\"id\":\"6512\",\"type\":\"ColumnDataSource\"},\"glyph\":{\"id\":\"6513\",\"type\":\"Circle\"},\"hover_glyph\":null,\"muted_glyph\":null,\"nonselection_glyph\":{\"id\":\"6514\",\"type\":\"Circle\"},\"selection_glyph\":{\"id\":\"6515\",\"type\":\"Circle\"},\"view\":{\"id\":\"6517\",\"type\":\"CDSView\"}},\"id\":\"6516\",\"type\":\"GlyphRenderer\"},{\"attributes\":{},\"id\":\"6734\",\"type\":\"BasicTickFormatter\"},{\"attributes\":{},\"id\":\"6738\",\"type\":\"Selection\"},{\"attributes\":{\"callback\":null},\"id\":\"6509\",\"type\":\"TapTool\"},{\"attributes\":{\"source\":{\"id\":\"6512\",\"type\":\"ColumnDataSource\"}},\"id\":\"6517\",\"type\":\"CDSView\"},{\"attributes\":{\"formatter\":{\"id\":\"6734\",\"type\":\"BasicTickFormatter\"},\"ticker\":{\"id\":\"6500\",\"type\":\"BasicTicker\"}},\"id\":\"6499\",\"type\":\"LinearAxis\"},{\"attributes\":{\"ticker\":{\"id\":\"6500\",\"type\":\"BasicTicker\"}},\"id\":\"6503\",\"type\":\"Grid\"},{\"attributes\":{\"dimension\":1,\"ticker\":{\"id\":\"6505\",\"type\":\"BasicTicker\"}},\"id\":\"6508\",\"type\":\"Grid\"},{\"attributes\":{\"fill_color\":{\"value\":\"#1f77b4\"},\"line_color\":{\"value\":\"#1f77b4\"},\"size\":{\"units\":\"screen\",\"value\":50},\"x\":{\"field\":\"x\"},\"y\":{\"field\":\"y\"}},\"id\":\"6513\",\"type\":\"Circle\"},{\"attributes\":{\"text\":\"Select a circle\"},\"id\":\"6489\",\"type\":\"Title\"},{\"attributes\":{},\"id\":\"6505\",\"type\":\"BasicTicker\"},{\"attributes\":{},\"id\":\"6500\",\"type\":\"BasicTicker\"},{\"attributes\":{},\"id\":\"6495\",\"type\":\"LinearScale\"},{\"attributes\":{\"callback\":null,\"data\":{\"x\":[1,2,3,4,5],\"y\":[2,5,8,2,7]},\"selected\":{\"id\":\"6738\",\"type\":\"Selection\"},\"selection_policy\":{\"id\":\"6737\",\"type\":\"UnionRenderers\"}},\"id\":\"6512\",\"type\":\"ColumnDataSource\"},{\"attributes\":{\"callback\":null},\"id\":\"6493\",\"type\":\"DataRange1d\"},{\"attributes\":{\"formatter\":{\"id\":\"6736\",\"type\":\"BasicTickFormatter\"},\"ticker\":{\"id\":\"6505\",\"type\":\"BasicTicker\"}},\"id\":\"6504\",\"type\":\"LinearAxis\"},{\"attributes\":{},\"id\":\"6737\",\"type\":\"UnionRenderers\"}],\"root_ids\":[\"6488\"]},\"title\":\"Bokeh Application\",\"version\":\"1.3.4\"}};\n",
       "  var render_items = [{\"docid\":\"348f22c4-777f-4d02-ac15-b8350df68148\",\"roots\":{\"6488\":\"7378e450-db0a-434f-b1ba-1c0ae4f6aa3c\"}}];\n",
       "  root.Bokeh.embed.embed_items_notebook(docs_json, render_items);\n",
       "\n",
       "  }\n",
       "  if (root.Bokeh !== undefined) {\n",
       "    embed_document(root);\n",
       "  } else {\n",
       "    var attempts = 0;\n",
       "    var timer = setInterval(function(root) {\n",
       "      if (root.Bokeh !== undefined) {\n",
       "        embed_document(root);\n",
       "        clearInterval(timer);\n",
       "      }\n",
       "      attempts++;\n",
       "      if (attempts > 100) {\n",
       "        console.log(\"Bokeh: ERROR: Unable to run BokehJS code because BokehJS library is missing\");\n",
       "        clearInterval(timer);\n",
       "      }\n",
       "    }, 10, root)\n",
       "  }\n",
       "})(window);"
      ],
      "application/vnd.bokehjs_exec.v0+json": ""
     },
     "metadata": {
      "application/vnd.bokehjs_exec.v0+json": {
       "id": "6488"
      }
     },
     "output_type": "display_data"
    }
   ],
   "source": [
    "p = figure(plot_width=400, plot_height=400, tools=\"tap\", title=\"Select a circle\")\n",
    "renderer = p.circle([1, 2, 3, 4, 5], [2, 5, 8, 2, 7], size=50,\n",
    "\n",
    "                    # set visual properties for selected glyphs\n",
    "                    selection_color=\"firebrick\",\n",
    "\n",
    "                    # set visual properties for non-selected glyphs\n",
    "                    nonselection_fill_alpha=0.2,\n",
    "                    nonselection_fill_color=\"grey\",\n",
    "                    nonselection_line_color=\"firebrick\",\n",
    "                    nonselection_line_alpha=1.0)\n",
    "\n",
    "show(p)"
   ]
  },
  {
   "cell_type": "markdown",
   "metadata": {
    "Collapsed": "false"
   },
   "source": [
    "It is also possible to specify the visual appearance of glyphs when they are \"inspected\", e.g. by a hover tool. This is accomplished by setting an optional `hover_glyph` on the glyph renderer:\n",
    "```python\n",
    "r.hover_glyph = Circle(fill_alpha=1, fill_color=\"firebrick\", line_color=None) \n",
    "```\n",
    "Or if using `bokeh.plotting` glyph methods, by passing `hover_fill_alpha`, etc. to the glyph method. Lets look at an example that works together with a `HoverTool` configured for \"hline\" hit-testing."
   ]
  },
  {
   "cell_type": "code",
   "execution_count": 40,
   "metadata": {
    "Collapsed": "false"
   },
   "outputs": [
    {
     "data": {
      "text/html": [
       "\n",
       "\n",
       "\n",
       "\n",
       "\n",
       "\n",
       "  <div class=\"bk-root\" id=\"c07bf5dc-7e80-4b2a-84f0-de0417a3fbe7\" data-root-id=\"6781\"></div>\n"
      ]
     },
     "metadata": {},
     "output_type": "display_data"
    },
    {
     "data": {
      "application/javascript": [
       "(function(root) {\n",
       "  function embed_document(root) {\n",
       "    \n",
       "  var docs_json = {\"18b54de5-412d-445c-93d2-a2c665345892\":{\"roots\":{\"references\":[{\"attributes\":{\"below\":[{\"id\":\"6792\",\"type\":\"DatetimeAxis\"}],\"center\":[{\"id\":\"6796\",\"type\":\"Grid\"},{\"id\":\"6801\",\"type\":\"Grid\"}],\"left\":[{\"id\":\"6797\",\"type\":\"LinearAxis\"}],\"plot_height\":300,\"renderers\":[{\"id\":\"6818\",\"type\":\"GlyphRenderer\"},{\"id\":\"6824\",\"type\":\"GlyphRenderer\"}],\"title\":{\"id\":\"6782\",\"type\":\"Title\"},\"toolbar\":{\"id\":\"6808\",\"type\":\"Toolbar\"},\"x_range\":{\"id\":\"6784\",\"type\":\"DataRange1d\"},\"x_scale\":{\"id\":\"6788\",\"type\":\"LinearScale\"},\"y_range\":{\"id\":\"6786\",\"type\":\"DataRange1d\"},\"y_scale\":{\"id\":\"6790\",\"type\":\"LinearScale\"}},\"id\":\"6781\",\"subtype\":\"Figure\",\"type\":\"Plot\"},{\"attributes\":{},\"id\":\"6790\",\"type\":\"LinearScale\"},{\"attributes\":{\"days\":[1,8,15,22]},\"id\":\"7059\",\"type\":\"DaysTicker\"},{\"attributes\":{\"months\":[0,4,8]},\"id\":\"7063\",\"type\":\"MonthsTicker\"},{\"attributes\":{},\"id\":\"6788\",\"type\":\"LinearScale\"},{\"attributes\":{\"fill_alpha\":{\"value\":0.05},\"fill_color\":{\"value\":\"grey\"},\"line_color\":{\"value\":null},\"size\":{\"units\":\"screen\",\"value\":20},\"x\":{\"field\":\"x\"},\"y\":{\"field\":\"y\"}},\"id\":\"6821\",\"type\":\"Circle\"},{\"attributes\":{},\"id\":\"6798\",\"type\":\"BasicTicker\"},{\"attributes\":{\"source\":{\"id\":\"6815\",\"type\":\"ColumnDataSource\"}},\"id\":\"6819\",\"type\":\"CDSView\"},{\"attributes\":{},\"id\":\"6806\",\"type\":\"ResetTool\"},{\"attributes\":{\"callback\":null,\"data\":{\"x\":{\"__ndarray__\":\"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\",\"dtype\":\"float64\",\"shape\":[288]},\"y\":[143,147,150,152,152,152,154,155,142,140,138,134,131,130,128,127,126,126,126,126,127,129,131,132,134,136,136,136,136,135,134,132,130,130,130,129,128,127,125,124,123,123,122,121,120,118,115,112,111,111,110,110,109,108,107,107,107,108,107,105,105,105,105,104,103,102,99,97,96,94,94,93,93,92,91,92,94,95,96,97,99,102,104,112,112,112,111,110,107,104,105,105,103,99,96,94,95,102,114,128,144,160,173,185,196,205,209,214,219,226,234,241,248,255,260,265,268,270,272,271,271,268,265,261,256,253,250,246,244,241,237,233,229,225,222,204,200,197,193,190,186,182,179,175,171,168,164,158,154,151,148,145,141,133,139,152,173,196,217,233,244,249,250,253,256,260,263,265,265,264,260,254,246,234,217,200,188,181,175,169,164,159,154,147,138,132,129,127,123,117,111,106,104,103,100,94,88,83,78,75,73,71,69,68,67,67,68,70,71,71,70,69,68,67,67,67,66,67,69,71,74,76,78,80,80,80,80,80,80,82,84,87,90,92,87,87,86,86,86,86,87,87,87,85,83,82,83,87,95,107,118,130,141,149,172,179,187,201,214,221,225,230,232,230,223,216,208,199,191,185,181,177,176,177,176,173,171,169,163,154,152,153,154,154,153,151,150,150]},\"selected\":{\"id\":\"7067\",\"type\":\"Selection\"},\"selection_policy\":{\"id\":\"7066\",\"type\":\"UnionRenderers\"}},\"id\":\"6815\",\"type\":\"ColumnDataSource\"},{\"attributes\":{},\"id\":\"6805\",\"type\":\"SaveTool\"},{\"attributes\":{\"overlay\":{\"id\":\"7070\",\"type\":\"BoxAnnotation\"}},\"id\":\"6804\",\"type\":\"BoxZoomTool\"},{\"attributes\":{\"months\":[0,6]},\"id\":\"7064\",\"type\":\"MonthsTicker\"},{\"attributes\":{\"data_source\":{\"id\":\"6815\",\"type\":\"ColumnDataSource\"},\"glyph\":{\"id\":\"6816\",\"type\":\"Line\"},\"hover_glyph\":null,\"muted_glyph\":null,\"nonselection_glyph\":{\"id\":\"6817\",\"type\":\"Line\"},\"selection_glyph\":null,\"view\":{\"id\":\"6819\",\"type\":\"CDSView\"}},\"id\":\"6818\",\"type\":\"GlyphRenderer\"},{\"attributes\":{},\"id\":\"7067\",\"type\":\"Selection\"},{\"attributes\":{},\"id\":\"7065\",\"type\":\"YearsTicker\"},{\"attributes\":{\"months\":[0,2,4,6,8,10]},\"id\":\"7062\",\"type\":\"MonthsTicker\"},{\"attributes\":{\"callback\":null,\"mode\":\"hline\",\"renderers\":[{\"id\":\"6824\",\"type\":\"GlyphRenderer\"}],\"tooltips\":null},\"id\":\"6826\",\"type\":\"HoverTool\"},{\"attributes\":{},\"id\":\"7066\",\"type\":\"UnionRenderers\"},{\"attributes\":{\"fill_alpha\":{\"value\":0.3},\"fill_color\":{\"value\":\"firebrick\"},\"line_alpha\":{\"value\":0.3},\"line_color\":{\"value\":\"white\"},\"size\":{\"units\":\"screen\",\"value\":20},\"x\":{\"field\":\"x\"},\"y\":{\"field\":\"y\"}},\"id\":\"6823\",\"type\":\"Circle\"},{\"attributes\":{\"callback\":null,\"data\":{\"x\":{\"__ndarray__\":\"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\",\"dtype\":\"float64\",\"shape\":[288]},\"y\":[143,147,150,152,152,152,154,155,142,140,138,134,131,130,128,127,126,126,126,126,127,129,131,132,134,136,136,136,136,135,134,132,130,130,130,129,128,127,125,124,123,123,122,121,120,118,115,112,111,111,110,110,109,108,107,107,107,108,107,105,105,105,105,104,103,102,99,97,96,94,94,93,93,92,91,92,94,95,96,97,99,102,104,112,112,112,111,110,107,104,105,105,103,99,96,94,95,102,114,128,144,160,173,185,196,205,209,214,219,226,234,241,248,255,260,265,268,270,272,271,271,268,265,261,256,253,250,246,244,241,237,233,229,225,222,204,200,197,193,190,186,182,179,175,171,168,164,158,154,151,148,145,141,133,139,152,173,196,217,233,244,249,250,253,256,260,263,265,265,264,260,254,246,234,217,200,188,181,175,169,164,159,154,147,138,132,129,127,123,117,111,106,104,103,100,94,88,83,78,75,73,71,69,68,67,67,68,70,71,71,70,69,68,67,67,67,66,67,69,71,74,76,78,80,80,80,80,80,80,82,84,87,90,92,87,87,86,86,86,86,87,87,87,85,83,82,83,87,95,107,118,130,141,149,172,179,187,201,214,221,225,230,232,230,223,216,208,199,191,185,181,177,176,177,176,173,171,169,163,154,152,153,154,154,153,151,150,150]},\"selected\":{\"id\":\"7069\",\"type\":\"Selection\"},\"selection_policy\":{\"id\":\"7068\",\"type\":\"UnionRenderers\"}},\"id\":\"6820\",\"type\":\"ColumnDataSource\"},{\"attributes\":{},\"id\":\"6807\",\"type\":\"HelpTool\"},{\"attributes\":{\"months\":[0,1,2,3,4,5,6,7,8,9,10,11]},\"id\":\"7061\",\"type\":\"MonthsTicker\"},{\"attributes\":{\"fill_alpha\":{\"value\":0.1},\"fill_color\":{\"value\":\"#1f77b4\"},\"line_alpha\":{\"value\":0.1},\"line_color\":{\"value\":\"#1f77b4\"},\"size\":{\"units\":\"screen\",\"value\":20},\"x\":{\"field\":\"x\"},\"y\":{\"field\":\"y\"}},\"id\":\"6822\",\"type\":\"Circle\"},{\"attributes\":{},\"id\":\"7068\",\"type\":\"UnionRenderers\"},{\"attributes\":{\"data_source\":{\"id\":\"6820\",\"type\":\"ColumnDataSource\"},\"glyph\":{\"id\":\"6821\",\"type\":\"Circle\"},\"hover_glyph\":{\"id\":\"6823\",\"type\":\"Circle\"},\"muted_glyph\":null,\"nonselection_glyph\":{\"id\":\"6822\",\"type\":\"Circle\"},\"selection_glyph\":null,\"view\":{\"id\":\"6825\",\"type\":\"CDSView\"}},\"id\":\"6824\",\"type\":\"GlyphRenderer\"},{\"attributes\":{},\"id\":\"7053\",\"type\":\"BasicTickFormatter\"},{\"attributes\":{\"days\":[1,2,3,4,5,6,7,8,9,10,11,12,13,14,15,16,17,18,19,20,21,22,23,24,25,26,27,28,29,30,31]},\"id\":\"7057\",\"type\":\"DaysTicker\"},{\"attributes\":{},\"id\":\"7069\",\"type\":\"Selection\"},{\"attributes\":{},\"id\":\"7051\",\"type\":\"DatetimeTickFormatter\"},{\"attributes\":{\"source\":{\"id\":\"6820\",\"type\":\"ColumnDataSource\"}},\"id\":\"6825\",\"type\":\"CDSView\"},{\"attributes\":{\"bottom_units\":\"screen\",\"fill_alpha\":{\"value\":0.5},\"fill_color\":{\"value\":\"lightgrey\"},\"left_units\":\"screen\",\"level\":\"overlay\",\"line_alpha\":{\"value\":1.0},\"line_color\":{\"value\":\"black\"},\"line_dash\":[4,4],\"line_width\":{\"value\":2},\"render_mode\":\"css\",\"right_units\":\"screen\",\"top_units\":\"screen\"},\"id\":\"7070\",\"type\":\"BoxAnnotation\"},{\"attributes\":{\"active_drag\":\"auto\",\"active_inspect\":\"auto\",\"active_multi\":null,\"active_scroll\":\"auto\",\"active_tap\":\"auto\",\"tools\":[{\"id\":\"6802\",\"type\":\"PanTool\"},{\"id\":\"6803\",\"type\":\"WheelZoomTool\"},{\"id\":\"6804\",\"type\":\"BoxZoomTool\"},{\"id\":\"6805\",\"type\":\"SaveTool\"},{\"id\":\"6806\",\"type\":\"ResetTool\"},{\"id\":\"6807\",\"type\":\"HelpTool\"},{\"id\":\"6826\",\"type\":\"HoverTool\"}]},\"id\":\"6808\",\"type\":\"Toolbar\"},{\"attributes\":{\"days\":[1,15]},\"id\":\"7060\",\"type\":\"DaysTicker\"},{\"attributes\":{\"ticker\":{\"id\":\"6793\",\"type\":\"DatetimeTicker\"}},\"id\":\"6796\",\"type\":\"Grid\"},{\"attributes\":{\"mantissas\":[1,2,5],\"max_interval\":500.0,\"num_minor_ticks\":0},\"id\":\"7054\",\"type\":\"AdaptiveTicker\"},{\"attributes\":{\"num_minor_ticks\":5,\"tickers\":[{\"id\":\"7054\",\"type\":\"AdaptiveTicker\"},{\"id\":\"7055\",\"type\":\"AdaptiveTicker\"},{\"id\":\"7056\",\"type\":\"AdaptiveTicker\"},{\"id\":\"7057\",\"type\":\"DaysTicker\"},{\"id\":\"7058\",\"type\":\"DaysTicker\"},{\"id\":\"7059\",\"type\":\"DaysTicker\"},{\"id\":\"7060\",\"type\":\"DaysTicker\"},{\"id\":\"7061\",\"type\":\"MonthsTicker\"},{\"id\":\"7062\",\"type\":\"MonthsTicker\"},{\"id\":\"7063\",\"type\":\"MonthsTicker\"},{\"id\":\"7064\",\"type\":\"MonthsTicker\"},{\"id\":\"7065\",\"type\":\"YearsTicker\"}]},\"id\":\"6793\",\"type\":\"DatetimeTicker\"},{\"attributes\":{\"line_alpha\":0.1,\"line_color\":\"#1f77b4\",\"line_dash\":[4,4],\"x\":{\"field\":\"x\"},\"y\":{\"field\":\"y\"}},\"id\":\"6817\",\"type\":\"Line\"},{\"attributes\":{},\"id\":\"6803\",\"type\":\"WheelZoomTool\"},{\"attributes\":{\"days\":[1,4,7,10,13,16,19,22,25,28]},\"id\":\"7058\",\"type\":\"DaysTicker\"},{\"attributes\":{\"formatter\":{\"id\":\"7051\",\"type\":\"DatetimeTickFormatter\"},\"ticker\":{\"id\":\"6793\",\"type\":\"DatetimeTicker\"}},\"id\":\"6792\",\"type\":\"DatetimeAxis\"},{\"attributes\":{\"callback\":null},\"id\":\"6784\",\"type\":\"DataRange1d\"},{\"attributes\":{\"callback\":null},\"id\":\"6786\",\"type\":\"DataRange1d\"},{\"attributes\":{},\"id\":\"6802\",\"type\":\"PanTool\"},{\"attributes\":{\"base\":24,\"mantissas\":[1,2,4,6,8,12],\"max_interval\":43200000.0,\"min_interval\":3600000.0,\"num_minor_ticks\":0},\"id\":\"7056\",\"type\":\"AdaptiveTicker\"},{\"attributes\":{\"formatter\":{\"id\":\"7053\",\"type\":\"BasicTickFormatter\"},\"ticker\":{\"id\":\"6798\",\"type\":\"BasicTicker\"}},\"id\":\"6797\",\"type\":\"LinearAxis\"},{\"attributes\":{\"line_color\":\"gray\",\"line_dash\":[4,4],\"x\":{\"field\":\"x\"},\"y\":{\"field\":\"y\"}},\"id\":\"6816\",\"type\":\"Line\"},{\"attributes\":{\"base\":60,\"mantissas\":[1,2,5,10,15,20,30],\"max_interval\":1800000.0,\"min_interval\":1000.0,\"num_minor_ticks\":0},\"id\":\"7055\",\"type\":\"AdaptiveTicker\"},{\"attributes\":{\"dimension\":1,\"ticker\":{\"id\":\"6798\",\"type\":\"BasicTicker\"}},\"id\":\"6801\",\"type\":\"Grid\"},{\"attributes\":{\"text\":\"Hover over points\"},\"id\":\"6782\",\"type\":\"Title\"}],\"root_ids\":[\"6781\"]},\"title\":\"Bokeh Application\",\"version\":\"1.3.4\"}};\n",
       "  var render_items = [{\"docid\":\"18b54de5-412d-445c-93d2-a2c665345892\",\"roots\":{\"6781\":\"c07bf5dc-7e80-4b2a-84f0-de0417a3fbe7\"}}];\n",
       "  root.Bokeh.embed.embed_items_notebook(docs_json, render_items);\n",
       "\n",
       "  }\n",
       "  if (root.Bokeh !== undefined) {\n",
       "    embed_document(root);\n",
       "  } else {\n",
       "    var attempts = 0;\n",
       "    var timer = setInterval(function(root) {\n",
       "      if (root.Bokeh !== undefined) {\n",
       "        embed_document(root);\n",
       "        clearInterval(timer);\n",
       "      }\n",
       "      attempts++;\n",
       "      if (attempts > 100) {\n",
       "        console.log(\"Bokeh: ERROR: Unable to run BokehJS code because BokehJS library is missing\");\n",
       "        clearInterval(timer);\n",
       "      }\n",
       "    }, 10, root)\n",
       "  }\n",
       "})(window);"
      ],
      "application/vnd.bokehjs_exec.v0+json": ""
     },
     "metadata": {
      "application/vnd.bokehjs_exec.v0+json": {
       "id": "6781"
      }
     },
     "output_type": "display_data"
    }
   ],
   "source": [
    "from bokeh.models.tools import HoverTool\n",
    "from bokeh.sampledata.glucose import data\n",
    "\n",
    "subset = data.loc['2010-10-06']\n",
    "\n",
    "x, y = subset.index.to_series(), subset['glucose']\n",
    "\n",
    "# Basic plot setup\n",
    "p = figure(width=600, height=300, x_axis_type=\"datetime\", title='Hover over points')\n",
    "\n",
    "p.line(x, y, line_dash=\"4 4\", line_width=1, color='gray')\n",
    "\n",
    "cr = p.circle(x, y, size=20,\n",
    "              fill_color=\"grey\", hover_fill_color=\"firebrick\",\n",
    "              fill_alpha=0.05, hover_alpha=0.3,\n",
    "              line_color=None, hover_line_color=\"white\")\n",
    "\n",
    "p.add_tools(HoverTool(tooltips=None, renderers=[cr], mode='hline'))\n",
    "\n",
    "show(p)"
   ]
  },
  {
   "cell_type": "code",
   "execution_count": 52,
   "metadata": {
    "Collapsed": "false"
   },
   "outputs": [
    {
     "data": {
      "text/html": [
       "\n",
       "\n",
       "\n",
       "\n",
       "\n",
       "\n",
       "  <div class=\"bk-root\" id=\"f27eb5e5-4c98-4f74-bfcc-abfde65a4b3b\" data-root-id=\"11471\"></div>\n"
      ]
     },
     "metadata": {},
     "output_type": "display_data"
    },
    {
     "data": {
      "application/javascript": [
       "(function(root) {\n",
       "  function embed_document(root) {\n",
       "    \n",
       "  var docs_json = {\"fc73def3-c136-4c6b-b63a-0e59220de739\":{\"roots\":{\"references\":[{\"attributes\":{\"below\":[{\"id\":\"11480\",\"type\":\"LinearAxis\"}],\"center\":[{\"id\":\"11484\",\"type\":\"Grid\"},{\"id\":\"11489\",\"type\":\"Grid\"}],\"left\":[{\"id\":\"11485\",\"type\":\"LinearAxis\"}],\"plot_height\":300,\"plot_width\":450,\"renderers\":[{\"id\":\"11506\",\"type\":\"GlyphRenderer\"}],\"title\":{\"id\":\"11850\",\"type\":\"Title\"},\"toolbar\":{\"id\":\"11496\",\"type\":\"Toolbar\"},\"x_range\":{\"id\":\"11472\",\"type\":\"DataRange1d\"},\"x_scale\":{\"id\":\"11476\",\"type\":\"LinearScale\"},\"y_range\":{\"id\":\"11474\",\"type\":\"DataRange1d\"},\"y_scale\":{\"id\":\"11478\",\"type\":\"LinearScale\"}},\"id\":\"11471\",\"subtype\":\"Figure\",\"type\":\"Plot\"},{\"attributes\":{},\"id\":\"11490\",\"type\":\"PanTool\"},{\"attributes\":{\"data_source\":{\"id\":\"11503\",\"type\":\"ColumnDataSource\"},\"glyph\":{\"id\":\"11504\",\"type\":\"Circle\"},\"hover_glyph\":null,\"muted_glyph\":null,\"nonselection_glyph\":{\"id\":\"11505\",\"type\":\"Circle\"},\"selection_glyph\":null,\"view\":{\"id\":\"11507\",\"type\":\"CDSView\"}},\"id\":\"11506\",\"type\":\"GlyphRenderer\"},{\"attributes\":{},\"id\":\"11491\",\"type\":\"WheelZoomTool\"},{\"attributes\":{},\"id\":\"11855\",\"type\":\"BasicTickFormatter\"},{\"attributes\":{\"callback\":null},\"id\":\"11472\",\"type\":\"DataRange1d\"},{\"attributes\":{\"callback\":null,\"data\":{\"x\":[1,2,3,4,5],\"y\":[7,5,7,5,7]},\"selected\":{\"id\":\"11857\",\"type\":\"Selection\"},\"selection_policy\":{\"id\":\"11856\",\"type\":\"UnionRenderers\"}},\"id\":\"11503\",\"type\":\"ColumnDataSource\"},{\"attributes\":{\"overlay\":{\"id\":\"11858\",\"type\":\"BoxAnnotation\"}},\"id\":\"11492\",\"type\":\"BoxZoomTool\"},{\"attributes\":{},\"id\":\"11856\",\"type\":\"UnionRenderers\"},{\"attributes\":{\"callback\":null},\"id\":\"11474\",\"type\":\"DataRange1d\"},{\"attributes\":{},\"id\":\"11493\",\"type\":\"SaveTool\"},{\"attributes\":{},\"id\":\"11476\",\"type\":\"LinearScale\"},{\"attributes\":{},\"id\":\"11494\",\"type\":\"ResetTool\"},{\"attributes\":{},\"id\":\"11853\",\"type\":\"BasicTickFormatter\"},{\"attributes\":{},\"id\":\"11495\",\"type\":\"HelpTool\"},{\"attributes\":{\"text\":\"\"},\"id\":\"11850\",\"type\":\"Title\"},{\"attributes\":{},\"id\":\"11478\",\"type\":\"LinearScale\"},{\"attributes\":{\"formatter\":{\"id\":\"11853\",\"type\":\"BasicTickFormatter\"},\"ticker\":{\"id\":\"11481\",\"type\":\"BasicTicker\"}},\"id\":\"11480\",\"type\":\"LinearAxis\"},{\"attributes\":{},\"id\":\"11486\",\"type\":\"BasicTicker\"},{\"attributes\":{},\"id\":\"11481\",\"type\":\"BasicTicker\"},{\"attributes\":{},\"id\":\"11857\",\"type\":\"Selection\"},{\"attributes\":{\"ticker\":{\"id\":\"11481\",\"type\":\"BasicTicker\"}},\"id\":\"11484\",\"type\":\"Grid\"},{\"attributes\":{\"fill_alpha\":{\"value\":0.1},\"fill_color\":{\"value\":\"olive\"},\"line_color\":{\"value\":\"olive\"},\"line_dash\":[9,4],\"size\":{\"units\":\"screen\",\"value\":60},\"x\":{\"field\":\"x\"},\"y\":{\"field\":\"y\"}},\"id\":\"11504\",\"type\":\"Circle\"},{\"attributes\":{\"fill_alpha\":{\"value\":0.1},\"fill_color\":{\"value\":\"#1f77b4\"},\"line_alpha\":{\"value\":0.1},\"line_color\":{\"value\":\"#1f77b4\"},\"x\":{\"field\":\"x\"},\"y\":{\"field\":\"y\"}},\"id\":\"11505\",\"type\":\"Circle\"},{\"attributes\":{\"bottom_units\":\"screen\",\"fill_alpha\":{\"value\":0.5},\"fill_color\":{\"value\":\"lightgrey\"},\"left_units\":\"screen\",\"level\":\"overlay\",\"line_alpha\":{\"value\":1.0},\"line_color\":{\"value\":\"black\"},\"line_dash\":[4,4],\"line_width\":{\"value\":2},\"render_mode\":\"css\",\"right_units\":\"screen\",\"top_units\":\"screen\"},\"id\":\"11858\",\"type\":\"BoxAnnotation\"},{\"attributes\":{\"dimension\":1,\"ticker\":{\"id\":\"11486\",\"type\":\"BasicTicker\"}},\"id\":\"11489\",\"type\":\"Grid\"},{\"attributes\":{\"formatter\":{\"id\":\"11855\",\"type\":\"BasicTickFormatter\"},\"ticker\":{\"id\":\"11486\",\"type\":\"BasicTicker\"}},\"id\":\"11485\",\"type\":\"LinearAxis\"},{\"attributes\":{\"source\":{\"id\":\"11503\",\"type\":\"ColumnDataSource\"}},\"id\":\"11507\",\"type\":\"CDSView\"},{\"attributes\":{\"active_drag\":\"auto\",\"active_inspect\":\"auto\",\"active_multi\":null,\"active_scroll\":\"auto\",\"active_tap\":\"auto\",\"tools\":[{\"id\":\"11490\",\"type\":\"PanTool\"},{\"id\":\"11491\",\"type\":\"WheelZoomTool\"},{\"id\":\"11492\",\"type\":\"BoxZoomTool\"},{\"id\":\"11493\",\"type\":\"SaveTool\"},{\"id\":\"11494\",\"type\":\"ResetTool\"},{\"id\":\"11495\",\"type\":\"HelpTool\"}]},\"id\":\"11496\",\"type\":\"Toolbar\"}],\"root_ids\":[\"11471\"]},\"title\":\"Bokeh Application\",\"version\":\"1.3.4\"}};\n",
       "  var render_items = [{\"docid\":\"fc73def3-c136-4c6b-b63a-0e59220de739\",\"roots\":{\"11471\":\"f27eb5e5-4c98-4f74-bfcc-abfde65a4b3b\"}}];\n",
       "  root.Bokeh.embed.embed_items_notebook(docs_json, render_items);\n",
       "\n",
       "  }\n",
       "  if (root.Bokeh !== undefined) {\n",
       "    embed_document(root);\n",
       "  } else {\n",
       "    var attempts = 0;\n",
       "    var timer = setInterval(function(root) {\n",
       "      if (root.Bokeh !== undefined) {\n",
       "        embed_document(root);\n",
       "        clearInterval(timer);\n",
       "      }\n",
       "      attempts++;\n",
       "      if (attempts > 100) {\n",
       "        console.log(\"Bokeh: ERROR: Unable to run BokehJS code because BokehJS library is missing\");\n",
       "        clearInterval(timer);\n",
       "      }\n",
       "    }, 10, root)\n",
       "  }\n",
       "})(window);"
      ],
      "application/vnd.bokehjs_exec.v0+json": ""
     },
     "metadata": {
      "application/vnd.bokehjs_exec.v0+json": {
       "id": "11471"
      }
     },
     "output_type": "display_data"
    }
   ],
   "source": [
    "# EXERCISE: experiment with standard, selected, hover glyph visual properties\n",
    "\n",
    "\n",
    "# standard\n",
    "\n",
    "f = figure(plot_width=450, plot_height=300)\n",
    "\n",
    "# keep a reference to the returned GlyphRenderer\n",
    "std = f.circle([1,2,3,4,5], [7,5,7,5,7])\n",
    "\n",
    "std.glyph.size = 60\n",
    "std.glyph.fill_alpha = 0.1\n",
    "std.glyph.line_color = \"olive\"\n",
    "std.glyph.line_dash = [9, 4]\n",
    "std.glyph.line_width = 1\n",
    "std.glyph.fill_color='olive'\n",
    "\n",
    "show(f)"
   ]
  },
  {
   "cell_type": "code",
   "execution_count": 72,
   "metadata": {},
   "outputs": [
    {
     "data": {
      "text/html": [
       "\n",
       "\n",
       "\n",
       "\n",
       "\n",
       "\n",
       "  <div class=\"bk-root\" id=\"632e711a-aff2-46b4-ae0b-4f81f37286de\" data-root-id=\"17612\"></div>\n"
      ]
     },
     "metadata": {},
     "output_type": "display_data"
    },
    {
     "data": {
      "application/javascript": [
       "(function(root) {\n",
       "  function embed_document(root) {\n",
       "    \n",
       "  var docs_json = {\"1bb31560-6fde-4942-aa21-b38db2967c8b\":{\"roots\":{\"references\":[{\"attributes\":{\"below\":[{\"id\":\"17623\",\"type\":\"LinearAxis\"}],\"center\":[{\"id\":\"17627\",\"type\":\"Grid\"},{\"id\":\"17632\",\"type\":\"Grid\"}],\"left\":[{\"id\":\"17628\",\"type\":\"LinearAxis\"}],\"plot_height\":400,\"plot_width\":400,\"renderers\":[{\"id\":\"17640\",\"type\":\"GlyphRenderer\"}],\"title\":{\"id\":\"17613\",\"type\":\"Title\"},\"toolbar\":{\"id\":\"17634\",\"type\":\"Toolbar\"},\"x_range\":{\"id\":\"17615\",\"type\":\"DataRange1d\"},\"x_scale\":{\"id\":\"17619\",\"type\":\"LinearScale\"},\"y_range\":{\"id\":\"17617\",\"type\":\"DataRange1d\"},\"y_scale\":{\"id\":\"17621\",\"type\":\"LinearScale\"}},\"id\":\"17612\",\"subtype\":\"Figure\",\"type\":\"Plot\"},{\"attributes\":{\"callback\":null},\"id\":\"17617\",\"type\":\"DataRange1d\"},{\"attributes\":{},\"id\":\"17624\",\"type\":\"BasicTicker\"},{\"attributes\":{\"formatter\":{\"id\":\"18081\",\"type\":\"BasicTickFormatter\"},\"ticker\":{\"id\":\"17629\",\"type\":\"BasicTicker\"}},\"id\":\"17628\",\"type\":\"LinearAxis\"},{\"attributes\":{\"dimension\":1,\"ticker\":{\"id\":\"17629\",\"type\":\"BasicTicker\"}},\"id\":\"17632\",\"type\":\"Grid\"},{\"attributes\":{\"fill_color\":{\"value\":\"#1FA5A3\"},\"line_color\":{\"value\":\"#1FA5A3\"},\"size\":{\"units\":\"screen\",\"value\":50},\"x\":{\"field\":\"x\"},\"y\":{\"field\":\"y\"}},\"id\":\"17637\",\"type\":\"Circle\"},{\"attributes\":{\"fill_alpha\":{\"value\":0.1},\"fill_color\":{\"value\":\"olive\"},\"line_color\":{\"value\":\"olive\"},\"size\":{\"units\":\"screen\",\"value\":50},\"x\":{\"field\":\"x\"},\"y\":{\"field\":\"y\"}},\"id\":\"17638\",\"type\":\"Circle\"},{\"attributes\":{\"formatter\":{\"id\":\"18079\",\"type\":\"BasicTickFormatter\"},\"ticker\":{\"id\":\"17624\",\"type\":\"BasicTicker\"}},\"id\":\"17623\",\"type\":\"LinearAxis\"},{\"attributes\":{},\"id\":\"17621\",\"type\":\"LinearScale\"},{\"attributes\":{\"fill_color\":{\"value\":\"olive\"},\"line_color\":{\"value\":\"olive\"},\"size\":{\"units\":\"screen\",\"value\":50},\"x\":{\"field\":\"x\"},\"y\":{\"field\":\"y\"}},\"id\":\"17639\",\"type\":\"Circle\"},{\"attributes\":{\"callback\":null,\"data\":{\"x\":[1,2,3,4,5],\"y\":[2,5,8,2,7]},\"selected\":{\"id\":\"18083\",\"type\":\"Selection\"},\"selection_policy\":{\"id\":\"18082\",\"type\":\"UnionRenderers\"}},\"id\":\"17636\",\"type\":\"ColumnDataSource\"},{\"attributes\":{\"callback\":null},\"id\":\"17615\",\"type\":\"DataRange1d\"},{\"attributes\":{\"ticker\":{\"id\":\"17624\",\"type\":\"BasicTicker\"}},\"id\":\"17627\",\"type\":\"Grid\"},{\"attributes\":{},\"id\":\"18083\",\"type\":\"Selection\"},{\"attributes\":{\"source\":{\"id\":\"17636\",\"type\":\"ColumnDataSource\"}},\"id\":\"17641\",\"type\":\"CDSView\"},{\"attributes\":{},\"id\":\"18081\",\"type\":\"BasicTickFormatter\"},{\"attributes\":{},\"id\":\"18079\",\"type\":\"BasicTickFormatter\"},{\"attributes\":{\"data_source\":{\"id\":\"17636\",\"type\":\"ColumnDataSource\"},\"glyph\":{\"id\":\"17637\",\"type\":\"Circle\"},\"hover_glyph\":null,\"muted_glyph\":null,\"nonselection_glyph\":{\"id\":\"17638\",\"type\":\"Circle\"},\"selection_glyph\":{\"id\":\"17639\",\"type\":\"Circle\"},\"view\":{\"id\":\"17641\",\"type\":\"CDSView\"}},\"id\":\"17640\",\"type\":\"GlyphRenderer\"},{\"attributes\":{\"active_drag\":\"auto\",\"active_inspect\":\"auto\",\"active_multi\":null,\"active_scroll\":\"auto\",\"active_tap\":\"auto\",\"tools\":[{\"id\":\"17633\",\"type\":\"TapTool\"}]},\"id\":\"17634\",\"type\":\"Toolbar\"},{\"attributes\":{},\"id\":\"17629\",\"type\":\"BasicTicker\"},{\"attributes\":{},\"id\":\"18082\",\"type\":\"UnionRenderers\"},{\"attributes\":{},\"id\":\"17619\",\"type\":\"LinearScale\"},{\"attributes\":{\"callback\":null},\"id\":\"17633\",\"type\":\"TapTool\"},{\"attributes\":{\"text\":\"Select a circle\"},\"id\":\"17613\",\"type\":\"Title\"}],\"root_ids\":[\"17612\"]},\"title\":\"Bokeh Application\",\"version\":\"1.3.4\"}};\n",
       "  var render_items = [{\"docid\":\"1bb31560-6fde-4942-aa21-b38db2967c8b\",\"roots\":{\"17612\":\"632e711a-aff2-46b4-ae0b-4f81f37286de\"}}];\n",
       "  root.Bokeh.embed.embed_items_notebook(docs_json, render_items);\n",
       "\n",
       "  }\n",
       "  if (root.Bokeh !== undefined) {\n",
       "    embed_document(root);\n",
       "  } else {\n",
       "    var attempts = 0;\n",
       "    var timer = setInterval(function(root) {\n",
       "      if (root.Bokeh !== undefined) {\n",
       "        embed_document(root);\n",
       "        clearInterval(timer);\n",
       "      }\n",
       "      attempts++;\n",
       "      if (attempts > 100) {\n",
       "        console.log(\"Bokeh: ERROR: Unable to run BokehJS code because BokehJS library is missing\");\n",
       "        clearInterval(timer);\n",
       "      }\n",
       "    }, 10, root)\n",
       "  }\n",
       "})(window);"
      ],
      "application/vnd.bokehjs_exec.v0+json": ""
     },
     "metadata": {
      "application/vnd.bokehjs_exec.v0+json": {
       "id": "17612"
      }
     },
     "output_type": "display_data"
    }
   ],
   "source": [
    "# selected\n",
    "\n",
    "plot = figure(plot_width=400, plot_height=400, tools=\"tap\", title=\"Select a circle\")\n",
    "renderer = plot.circle([1, 2, 3, 4, 5], [2, 5, 8, 2, 7], color='#1FA5A3', size=50,\n",
    "\n",
    "                       # set visual properties for selected glyphs\n",
    "                       selection_color=\"olive\",\n",
    "\n",
    "                       # set visual properties for non-selected glyphs\n",
    "                       nonselection_fill_alpha=0.1,\n",
    "                       nonselection_fill_color=\"olive\",\n",
    "                       nonselection_line_color=\"olive\",\n",
    "                       nonselection_line_alpha=1.0)\n",
    "\n",
    "show(plot)"
   ]
  },
  {
   "cell_type": "code",
   "execution_count": 87,
   "metadata": {},
   "outputs": [
    {
     "data": {
      "text/html": [
       "\n",
       "\n",
       "\n",
       "\n",
       "\n",
       "\n",
       "  <div class=\"bk-root\" id=\"b67bbee6-3772-4353-a5c4-7d70ee0aae3e\" data-root-id=\"28139\"></div>\n"
      ]
     },
     "metadata": {},
     "output_type": "display_data"
    },
    {
     "data": {
      "application/javascript": [
       "(function(root) {\n",
       "  function embed_document(root) {\n",
       "    \n",
       "  var docs_json = {\"961a574d-4f87-4477-a118-efaee935a809\":{\"roots\":{\"references\":[{\"attributes\":{\"below\":[{\"id\":\"28150\",\"type\":\"LinearAxis\"}],\"center\":[{\"id\":\"28154\",\"type\":\"Grid\"},{\"id\":\"28159\",\"type\":\"Grid\"}],\"left\":[{\"id\":\"28155\",\"type\":\"LinearAxis\"}],\"plot_height\":300,\"renderers\":[{\"id\":\"28164\",\"type\":\"GlyphRenderer\"},{\"id\":\"28170\",\"type\":\"GlyphRenderer\"}],\"title\":{\"id\":\"28140\",\"type\":\"Title\"},\"toolbar\":{\"id\":\"28160\",\"type\":\"Toolbar\"},\"toolbar_location\":null,\"x_range\":{\"id\":\"28142\",\"type\":\"DataRange1d\"},\"x_scale\":{\"id\":\"28146\",\"type\":\"LinearScale\"},\"y_range\":{\"id\":\"28144\",\"type\":\"DataRange1d\"},\"y_scale\":{\"id\":\"28148\",\"type\":\"LinearScale\"}},\"id\":\"28139\",\"subtype\":\"Figure\",\"type\":\"Plot\"},{\"attributes\":{\"callback\":null},\"id\":\"28142\",\"type\":\"DataRange1d\"},{\"attributes\":{},\"id\":\"28156\",\"type\":\"BasicTicker\"},{\"attributes\":{},\"id\":\"28151\",\"type\":\"BasicTicker\"},{\"attributes\":{\"formatter\":{\"id\":\"28758\",\"type\":\"BasicTickFormatter\"},\"ticker\":{\"id\":\"28156\",\"type\":\"BasicTicker\"}},\"id\":\"28155\",\"type\":\"LinearAxis\"},{\"attributes\":{},\"id\":\"28761\",\"type\":\"UnionRenderers\"},{\"attributes\":{\"ticker\":{\"id\":\"28151\",\"type\":\"BasicTicker\"}},\"id\":\"28154\",\"type\":\"Grid\"},{\"attributes\":{\"active_drag\":\"auto\",\"active_inspect\":\"auto\",\"active_multi\":null,\"active_scroll\":\"auto\",\"active_tap\":\"auto\",\"tools\":[{\"id\":\"28172\",\"type\":\"HoverTool\"}]},\"id\":\"28160\",\"type\":\"Toolbar\"},{\"attributes\":{\"dimension\":1,\"ticker\":{\"id\":\"28156\",\"type\":\"BasicTicker\"}},\"id\":\"28159\",\"type\":\"Grid\"},{\"attributes\":{},\"id\":\"28146\",\"type\":\"LinearScale\"},{\"attributes\":{\"formatter\":{\"id\":\"28756\",\"type\":\"BasicTickFormatter\"},\"ticker\":{\"id\":\"28151\",\"type\":\"BasicTicker\"}},\"id\":\"28150\",\"type\":\"LinearAxis\"},{\"attributes\":{\"line_color\":\"olive\",\"line_dash\":[4,4],\"line_width\":2,\"x\":{\"field\":\"x\"},\"y\":{\"field\":\"y\"}},\"id\":\"28162\",\"type\":\"Line\"},{\"attributes\":{\"text\":\"Hover over points\"},\"id\":\"28140\",\"type\":\"Title\"},{\"attributes\":{\"callback\":null,\"mode\":\"hline\",\"renderers\":[{\"id\":\"28170\",\"type\":\"GlyphRenderer\"}],\"tooltips\":null},\"id\":\"28172\",\"type\":\"HoverTool\"},{\"attributes\":{\"source\":{\"id\":\"28166\",\"type\":\"ColumnDataSource\"}},\"id\":\"28171\",\"type\":\"CDSView\"},{\"attributes\":{\"data_source\":{\"id\":\"28161\",\"type\":\"ColumnDataSource\"},\"glyph\":{\"id\":\"28162\",\"type\":\"Line\"},\"hover_glyph\":null,\"muted_glyph\":null,\"nonselection_glyph\":{\"id\":\"28163\",\"type\":\"Line\"},\"selection_glyph\":null,\"view\":{\"id\":\"28165\",\"type\":\"CDSView\"}},\"id\":\"28164\",\"type\":\"GlyphRenderer\"},{\"attributes\":{\"callback\":null,\"data\":{\"x\":[1,2,4,6,8,9,10,11,11,12],\"y\":[2,10,6,5,10,10,10,9,6,2]},\"selected\":{\"id\":\"28762\",\"type\":\"Selection\"},\"selection_policy\":{\"id\":\"28761\",\"type\":\"UnionRenderers\"}},\"id\":\"28166\",\"type\":\"ColumnDataSource\"},{\"attributes\":{},\"id\":\"28758\",\"type\":\"BasicTickFormatter\"},{\"attributes\":{},\"id\":\"28759\",\"type\":\"UnionRenderers\"},{\"attributes\":{\"fill_alpha\":{\"value\":0.3},\"fill_color\":{\"value\":\"firebrick\"},\"line_alpha\":{\"value\":0.3},\"line_color\":{\"value\":\"white\"},\"size\":{\"units\":\"screen\",\"value\":20},\"x\":{\"field\":\"x\"},\"y\":{\"field\":\"y\"}},\"id\":\"28169\",\"type\":\"Circle\"},{\"attributes\":{},\"id\":\"28760\",\"type\":\"Selection\"},{\"attributes\":{\"source\":{\"id\":\"28161\",\"type\":\"ColumnDataSource\"}},\"id\":\"28165\",\"type\":\"CDSView\"},{\"attributes\":{\"fill_alpha\":{\"value\":0.5},\"fill_color\":{\"value\":\"#1FA5A3\"},\"line_color\":{\"value\":null},\"size\":{\"units\":\"screen\",\"value\":20},\"x\":{\"field\":\"x\"},\"y\":{\"field\":\"y\"}},\"id\":\"28167\",\"type\":\"Circle\"},{\"attributes\":{\"line_alpha\":0.1,\"line_color\":\"#1f77b4\",\"line_dash\":[4,4],\"line_width\":2,\"x\":{\"field\":\"x\"},\"y\":{\"field\":\"y\"}},\"id\":\"28163\",\"type\":\"Line\"},{\"attributes\":{\"callback\":null,\"data\":{\"x\":[1,2,4,6,8,9,10,11,11,12],\"y\":[2,10,6,5,10,10,10,9,6,2]},\"selected\":{\"id\":\"28760\",\"type\":\"Selection\"},\"selection_policy\":{\"id\":\"28759\",\"type\":\"UnionRenderers\"}},\"id\":\"28161\",\"type\":\"ColumnDataSource\"},{\"attributes\":{\"fill_alpha\":{\"value\":0.1},\"fill_color\":{\"value\":\"#1f77b4\"},\"line_alpha\":{\"value\":0.1},\"line_color\":{\"value\":\"#1f77b4\"},\"size\":{\"units\":\"screen\",\"value\":20},\"x\":{\"field\":\"x\"},\"y\":{\"field\":\"y\"}},\"id\":\"28168\",\"type\":\"Circle\"},{\"attributes\":{},\"id\":\"28756\",\"type\":\"BasicTickFormatter\"},{\"attributes\":{},\"id\":\"28762\",\"type\":\"Selection\"},{\"attributes\":{},\"id\":\"28148\",\"type\":\"LinearScale\"},{\"attributes\":{\"callback\":null},\"id\":\"28144\",\"type\":\"DataRange1d\"},{\"attributes\":{\"data_source\":{\"id\":\"28166\",\"type\":\"ColumnDataSource\"},\"glyph\":{\"id\":\"28167\",\"type\":\"Circle\"},\"hover_glyph\":{\"id\":\"28169\",\"type\":\"Circle\"},\"muted_glyph\":null,\"nonselection_glyph\":{\"id\":\"28168\",\"type\":\"Circle\"},\"selection_glyph\":null,\"view\":{\"id\":\"28171\",\"type\":\"CDSView\"}},\"id\":\"28170\",\"type\":\"GlyphRenderer\"}],\"root_ids\":[\"28139\"]},\"title\":\"Bokeh Application\",\"version\":\"1.3.4\"}};\n",
       "  var render_items = [{\"docid\":\"961a574d-4f87-4477-a118-efaee935a809\",\"roots\":{\"28139\":\"b67bbee6-3772-4353-a5c4-7d70ee0aae3e\"}}];\n",
       "  root.Bokeh.embed.embed_items_notebook(docs_json, render_items);\n",
       "\n",
       "  }\n",
       "  if (root.Bokeh !== undefined) {\n",
       "    embed_document(root);\n",
       "  } else {\n",
       "    var attempts = 0;\n",
       "    var timer = setInterval(function(root) {\n",
       "      if (root.Bokeh !== undefined) {\n",
       "        embed_document(root);\n",
       "        clearInterval(timer);\n",
       "      }\n",
       "      attempts++;\n",
       "      if (attempts > 100) {\n",
       "        console.log(\"Bokeh: ERROR: Unable to run BokehJS code because BokehJS library is missing\");\n",
       "        clearInterval(timer);\n",
       "      }\n",
       "    }, 10, root)\n",
       "  }\n",
       "})(window);"
      ],
      "application/vnd.bokehjs_exec.v0+json": ""
     },
     "metadata": {
      "application/vnd.bokehjs_exec.v0+json": {
       "id": "28139"
      }
     },
     "output_type": "display_data"
    }
   ],
   "source": [
    "# hover\n",
    "\n",
    "from bokeh.models import HoverTool\n",
    "from bokeh.plotting import figure, output_file, show\n",
    "\n",
    "x, y = [1,2,4,6,8,9,10,11,11,12], [2,10,6,5,10,10,10,9,6,2]\n",
    "\n",
    "# Basic plot setup\n",
    "plot = figure(plot_width=600, plot_height=300, tools=\"\",\n",
    "              toolbar_location=None, title='Hover over points')\n",
    "\n",
    "plot.line(x, y, line_dash=\"4 4\", line_width=2, color='olive')\n",
    "\n",
    "cr = plot.circle(x, y, size=20,\n",
    "                fill_color=\"#1FA5A3\", hover_fill_color=\"firebrick\",\n",
    "                fill_alpha=0.5, hover_alpha=0.3,\n",
    "                line_color=None, hover_line_color=\"white\")\n",
    "\n",
    "plot.add_tools(HoverTool(tooltips=None, renderers=[cr], mode='hline'))\n",
    "\n",
    "show(plot)"
   ]
  },
  {
   "cell_type": "markdown",
   "metadata": {
    "Collapsed": "false"
   },
   "source": [
    "## Axes\n",
    "\n",
    "Next we will take a look at [stlying of Axes](https://bokeh.pydata.org/en/latest/docs/user_guide/styling.html#axes).\n",
    "\n",
    "To style axes, you first must get ahold of `Axis` objects. The simplest way is to use some convenience methods on `Plot`: `axis`, `xaxis`, and `yaxis`. These methods return lists of axis objects:\n",
    "\n",
    "```\n",
    ">>> p.xaxis\n",
    "[<bokeh.models.axes.LinearAxis at 0x106fa2390>]\n",
    "```\n",
    "However, you can set properties on all the elements of the list as if it was a single object:\n",
    "```\n",
    "p.xaxis.axis_label = \"Temperature\"\n",
    "p.axis.major_label_text_color = \"orange\"\n",
    "```\n",
    "These are referred to as \"splattable\" lists, and tab completion works on them as well. \n"
   ]
  },
  {
   "cell_type": "code",
   "execution_count": 90,
   "metadata": {
    "Collapsed": "false"
   },
   "outputs": [
    {
     "data": {
      "text/plain": [
       "[]"
      ]
     },
     "execution_count": 90,
     "metadata": {},
     "output_type": "execute_result"
    }
   ],
   "source": [
    "# EXERCISE Try out tab completion. Type p.xaxis.<press tab key> to see a list of attributes that can be set.\n",
    "\n",
    "p.xaxis"
   ]
  },
  {
   "cell_type": "markdown",
   "metadata": {
    "Collapsed": "false"
   },
   "source": [
    "## Axis properties\n",
    "\n",
    "Axes objects have many configurable properties that afford control over most visual aspects of an axis. These can be grouped by function according to prefix:\n",
    "\n",
    "* **axis**  [line properties](https://bokeh.pydata.org/en/latest/docs/user_guide/styling.html#line-properties) e.g `axis_line_width`\n",
    "\n",
    "* **axis_label** [text properties](https://bokeh.pydata.org/en/latest/docs/user_guide/styling.html#text-properties)  e.g. `axis_label_text_color`, as well as ``axis_label_standoff``\n",
    "\n",
    "* **major_label** [text properties](https://bokeh.pydata.org/en/latest/docs/user_guide/styling.html#text-properties) e.g. `major_label_text_font_size`, as well as ``major_label_orientation``\n",
    "\n",
    "* **major_tick** [line_properties](https://bokeh.pydata.org/en/latest/docs/user_guide/styling.html#line-properties) e.g. `major_tick_line_dash`, as well as  ``major_tick_in`` and ``major_tick_out``\n",
    "\n",
    "* **minor_tick** [line properties](https://bokeh.pydata.org/en/latest/docs/user_guide/styling.html#line-properties) e.g. `minor_tick_line_width`, as well as ``minor_tick_in`` and ``minor_tick_out``\n",
    "\n",
    "As a simple first case, let's change the orientation of the major tick labels on both axes of a plot:"
   ]
  },
  {
   "cell_type": "code",
   "execution_count": 91,
   "metadata": {
    "Collapsed": "false"
   },
   "outputs": [
    {
     "data": {
      "text/html": [
       "\n",
       "\n",
       "\n",
       "\n",
       "\n",
       "\n",
       "  <div class=\"bk-root\" id=\"172d0ff6-e56d-48b6-8139-a6fae4a6e9cd\" data-root-id=\"28908\"></div>\n"
      ]
     },
     "metadata": {},
     "output_type": "display_data"
    },
    {
     "data": {
      "application/javascript": [
       "(function(root) {\n",
       "  function embed_document(root) {\n",
       "    \n",
       "  var docs_json = {\"521acaa4-fe5e-45c1-9f50-463082b7f4f3\":{\"roots\":{\"references\":[{\"attributes\":{\"below\":[{\"id\":\"28917\",\"type\":\"LinearAxis\"}],\"center\":[{\"id\":\"28921\",\"type\":\"Grid\"},{\"id\":\"28926\",\"type\":\"Grid\"}],\"left\":[{\"id\":\"28922\",\"type\":\"LinearAxis\"}],\"plot_height\":400,\"plot_width\":400,\"renderers\":[{\"id\":\"28943\",\"type\":\"GlyphRenderer\"}],\"title\":{\"id\":\"29534\",\"type\":\"Title\"},\"toolbar\":{\"id\":\"28933\",\"type\":\"Toolbar\"},\"x_range\":{\"id\":\"28909\",\"type\":\"DataRange1d\"},\"x_scale\":{\"id\":\"28913\",\"type\":\"LinearScale\"},\"y_range\":{\"id\":\"28911\",\"type\":\"DataRange1d\"},\"y_scale\":{\"id\":\"28915\",\"type\":\"LinearScale\"}},\"id\":\"28908\",\"subtype\":\"Figure\",\"type\":\"Plot\"},{\"attributes\":{\"active_drag\":\"auto\",\"active_inspect\":\"auto\",\"active_multi\":null,\"active_scroll\":\"auto\",\"active_tap\":\"auto\",\"tools\":[{\"id\":\"28927\",\"type\":\"PanTool\"},{\"id\":\"28928\",\"type\":\"WheelZoomTool\"},{\"id\":\"28929\",\"type\":\"BoxZoomTool\"},{\"id\":\"28930\",\"type\":\"SaveTool\"},{\"id\":\"28931\",\"type\":\"ResetTool\"},{\"id\":\"28932\",\"type\":\"HelpTool\"}]},\"id\":\"28933\",\"type\":\"Toolbar\"},{\"attributes\":{\"fill_color\":{\"value\":\"#1f77b4\"},\"line_color\":{\"value\":\"#1f77b4\"},\"line_width\":{\"value\":2},\"size\":{\"units\":\"screen\",\"value\":10},\"x\":{\"field\":\"x\"},\"y\":{\"field\":\"y\"}},\"id\":\"28941\",\"type\":\"X\"},{\"attributes\":{},\"id\":\"28930\",\"type\":\"SaveTool\"},{\"attributes\":{\"fill_alpha\":{\"value\":0.1},\"fill_color\":{\"value\":\"#1f77b4\"},\"line_alpha\":{\"value\":0.1},\"line_color\":{\"value\":\"#1f77b4\"},\"line_width\":{\"value\":2},\"size\":{\"units\":\"screen\",\"value\":10},\"x\":{\"field\":\"x\"},\"y\":{\"field\":\"y\"}},\"id\":\"28942\",\"type\":\"X\"},{\"attributes\":{\"callback\":null},\"id\":\"28911\",\"type\":\"DataRange1d\"},{\"attributes\":{},\"id\":\"28913\",\"type\":\"LinearScale\"},{\"attributes\":{\"overlay\":{\"id\":\"29542\",\"type\":\"BoxAnnotation\"}},\"id\":\"28929\",\"type\":\"BoxZoomTool\"},{\"attributes\":{\"ticker\":{\"id\":\"28918\",\"type\":\"BasicTicker\"}},\"id\":\"28921\",\"type\":\"Grid\"},{\"attributes\":{\"callback\":null,\"data\":{\"x\":[1,2,3,4,5],\"y\":[2,5,8,2,7]},\"selected\":{\"id\":\"29541\",\"type\":\"Selection\"},\"selection_policy\":{\"id\":\"29540\",\"type\":\"UnionRenderers\"}},\"id\":\"28940\",\"type\":\"ColumnDataSource\"},{\"attributes\":{},\"id\":\"28928\",\"type\":\"WheelZoomTool\"},{\"attributes\":{},\"id\":\"28927\",\"type\":\"PanTool\"},{\"attributes\":{},\"id\":\"28931\",\"type\":\"ResetTool\"},{\"attributes\":{\"text\":\"\"},\"id\":\"29534\",\"type\":\"Title\"},{\"attributes\":{\"source\":{\"id\":\"28940\",\"type\":\"ColumnDataSource\"}},\"id\":\"28944\",\"type\":\"CDSView\"},{\"attributes\":{},\"id\":\"29540\",\"type\":\"UnionRenderers\"},{\"attributes\":{\"formatter\":{\"id\":\"29537\",\"type\":\"BasicTickFormatter\"},\"major_label_orientation\":0.7853981633974483,\"ticker\":{\"id\":\"28918\",\"type\":\"BasicTicker\"}},\"id\":\"28917\",\"type\":\"LinearAxis\"},{\"attributes\":{},\"id\":\"28932\",\"type\":\"HelpTool\"},{\"attributes\":{},\"id\":\"28918\",\"type\":\"BasicTicker\"},{\"attributes\":{\"dimension\":1,\"ticker\":{\"id\":\"28923\",\"type\":\"BasicTicker\"}},\"id\":\"28926\",\"type\":\"Grid\"},{\"attributes\":{},\"id\":\"29539\",\"type\":\"BasicTickFormatter\"},{\"attributes\":{\"bottom_units\":\"screen\",\"fill_alpha\":{\"value\":0.5},\"fill_color\":{\"value\":\"lightgrey\"},\"left_units\":\"screen\",\"level\":\"overlay\",\"line_alpha\":{\"value\":1.0},\"line_color\":{\"value\":\"black\"},\"line_dash\":[4,4],\"line_width\":{\"value\":2},\"render_mode\":\"css\",\"right_units\":\"screen\",\"top_units\":\"screen\"},\"id\":\"29542\",\"type\":\"BoxAnnotation\"},{\"attributes\":{},\"id\":\"28915\",\"type\":\"LinearScale\"},{\"attributes\":{},\"id\":\"28923\",\"type\":\"BasicTicker\"},{\"attributes\":{},\"id\":\"29541\",\"type\":\"Selection\"},{\"attributes\":{\"callback\":null},\"id\":\"28909\",\"type\":\"DataRange1d\"},{\"attributes\":{\"formatter\":{\"id\":\"29539\",\"type\":\"BasicTickFormatter\"},\"major_label_orientation\":\"vertical\",\"ticker\":{\"id\":\"28923\",\"type\":\"BasicTicker\"}},\"id\":\"28922\",\"type\":\"LinearAxis\"},{\"attributes\":{},\"id\":\"29537\",\"type\":\"BasicTickFormatter\"},{\"attributes\":{\"data_source\":{\"id\":\"28940\",\"type\":\"ColumnDataSource\"},\"glyph\":{\"id\":\"28941\",\"type\":\"X\"},\"hover_glyph\":null,\"muted_glyph\":null,\"nonselection_glyph\":{\"id\":\"28942\",\"type\":\"X\"},\"selection_glyph\":null,\"view\":{\"id\":\"28944\",\"type\":\"CDSView\"}},\"id\":\"28943\",\"type\":\"GlyphRenderer\"}],\"root_ids\":[\"28908\"]},\"title\":\"Bokeh Application\",\"version\":\"1.3.4\"}};\n",
       "  var render_items = [{\"docid\":\"521acaa4-fe5e-45c1-9f50-463082b7f4f3\",\"roots\":{\"28908\":\"172d0ff6-e56d-48b6-8139-a6fae4a6e9cd\"}}];\n",
       "  root.Bokeh.embed.embed_items_notebook(docs_json, render_items);\n",
       "\n",
       "  }\n",
       "  if (root.Bokeh !== undefined) {\n",
       "    embed_document(root);\n",
       "  } else {\n",
       "    var attempts = 0;\n",
       "    var timer = setInterval(function(root) {\n",
       "      if (root.Bokeh !== undefined) {\n",
       "        embed_document(root);\n",
       "        clearInterval(timer);\n",
       "      }\n",
       "      attempts++;\n",
       "      if (attempts > 100) {\n",
       "        console.log(\"Bokeh: ERROR: Unable to run BokehJS code because BokehJS library is missing\");\n",
       "        clearInterval(timer);\n",
       "      }\n",
       "    }, 10, root)\n",
       "  }\n",
       "})(window);"
      ],
      "application/vnd.bokehjs_exec.v0+json": ""
     },
     "metadata": {
      "application/vnd.bokehjs_exec.v0+json": {
       "id": "28908"
      }
     },
     "output_type": "display_data"
    }
   ],
   "source": [
    "from math import pi\n",
    "\n",
    "p = figure(plot_width=400, plot_height=400)\n",
    "p.x([1,2,3,4,5], [2,5,8,2,7], size=10, line_width=2)\n",
    "\n",
    "p.xaxis.major_label_orientation = pi/4\n",
    "p.yaxis.major_label_orientation = \"vertical\"\n",
    "\n",
    "show(p)"
   ]
  },
  {
   "cell_type": "markdown",
   "metadata": {
    "Collapsed": "false"
   },
   "source": [
    "The next example shows customizations on several of the different Axis properties at once:"
   ]
  },
  {
   "cell_type": "code",
   "execution_count": 92,
   "metadata": {
    "Collapsed": "false"
   },
   "outputs": [
    {
     "data": {
      "text/html": [
       "\n",
       "\n",
       "\n",
       "\n",
       "\n",
       "\n",
       "  <div class=\"bk-root\" id=\"6c71cff3-07d3-4a27-98f6-5932b44fae72\" data-root-id=\"29688\"></div>\n"
      ]
     },
     "metadata": {},
     "output_type": "display_data"
    },
    {
     "data": {
      "application/javascript": [
       "(function(root) {\n",
       "  function embed_document(root) {\n",
       "    \n",
       "  var docs_json = {\"2a59ecc9-6c8f-4967-947d-78facf78b621\":{\"roots\":{\"references\":[{\"attributes\":{\"below\":[{\"id\":\"29697\",\"type\":\"LinearAxis\"}],\"center\":[{\"id\":\"29701\",\"type\":\"Grid\"},{\"id\":\"29706\",\"type\":\"Grid\"}],\"left\":[{\"id\":\"29702\",\"type\":\"LinearAxis\"}],\"plot_height\":400,\"plot_width\":400,\"renderers\":[{\"id\":\"29723\",\"type\":\"GlyphRenderer\"}],\"title\":{\"id\":\"30323\",\"type\":\"Title\"},\"toolbar\":{\"id\":\"29713\",\"type\":\"Toolbar\"},\"x_range\":{\"id\":\"29689\",\"type\":\"DataRange1d\"},\"x_scale\":{\"id\":\"29693\",\"type\":\"LinearScale\"},\"y_range\":{\"id\":\"29691\",\"type\":\"DataRange1d\"},\"y_scale\":{\"id\":\"29695\",\"type\":\"LinearScale\"}},\"id\":\"29688\",\"subtype\":\"Figure\",\"type\":\"Plot\"},{\"attributes\":{\"overlay\":{\"id\":\"30331\",\"type\":\"BoxAnnotation\"}},\"id\":\"29709\",\"type\":\"BoxZoomTool\"},{\"attributes\":{\"source\":{\"id\":\"29720\",\"type\":\"ColumnDataSource\"}},\"id\":\"29724\",\"type\":\"CDSView\"},{\"attributes\":{},\"id\":\"29695\",\"type\":\"LinearScale\"},{\"attributes\":{\"callback\":null,\"data\":{\"x\":[1,2,3,4,5],\"y\":[2,5,8,2,7]},\"selected\":{\"id\":\"30330\",\"type\":\"Selection\"},\"selection_policy\":{\"id\":\"30329\",\"type\":\"UnionRenderers\"}},\"id\":\"29720\",\"type\":\"ColumnDataSource\"},{\"attributes\":{\"axis_label\":\"Temp\",\"axis_line_color\":{\"value\":\"red\"},\"axis_line_width\":{\"value\":3},\"formatter\":{\"id\":\"30326\",\"type\":\"BasicTickFormatter\"},\"minor_tick_in\":-3,\"minor_tick_out\":6,\"ticker\":{\"id\":\"29698\",\"type\":\"BasicTicker\"}},\"id\":\"29697\",\"type\":\"LinearAxis\"},{\"attributes\":{},\"id\":\"29712\",\"type\":\"HelpTool\"},{\"attributes\":{},\"id\":\"29703\",\"type\":\"BasicTicker\"},{\"attributes\":{\"axis_label\":\"Pressure\",\"formatter\":{\"id\":\"30328\",\"type\":\"BasicTickFormatter\"},\"major_label_orientation\":\"vertical\",\"major_label_text_color\":{\"value\":\"orange\"},\"minor_tick_in\":-3,\"minor_tick_out\":6,\"ticker\":{\"id\":\"29703\",\"type\":\"BasicTicker\"}},\"id\":\"29702\",\"type\":\"LinearAxis\"},{\"attributes\":{},\"id\":\"30326\",\"type\":\"BasicTickFormatter\"},{\"attributes\":{},\"id\":\"29698\",\"type\":\"BasicTicker\"},{\"attributes\":{},\"id\":\"29693\",\"type\":\"LinearScale\"},{\"attributes\":{},\"id\":\"30329\",\"type\":\"UnionRenderers\"},{\"attributes\":{\"callback\":null},\"id\":\"29691\",\"type\":\"DataRange1d\"},{\"attributes\":{\"ticker\":{\"id\":\"29698\",\"type\":\"BasicTicker\"}},\"id\":\"29701\",\"type\":\"Grid\"},{\"attributes\":{},\"id\":\"29707\",\"type\":\"PanTool\"},{\"attributes\":{\"callback\":null},\"id\":\"29689\",\"type\":\"DataRange1d\"},{\"attributes\":{},\"id\":\"29708\",\"type\":\"WheelZoomTool\"},{\"attributes\":{\"fill_color\":{\"value\":\"olive\"},\"line_color\":{\"value\":\"olive\"},\"size\":{\"units\":\"screen\",\"value\":12},\"x\":{\"field\":\"x\"},\"y\":{\"field\":\"y\"}},\"id\":\"29721\",\"type\":\"Asterisk\"},{\"attributes\":{},\"id\":\"29710\",\"type\":\"SaveTool\"},{\"attributes\":{\"fill_alpha\":{\"value\":0.1},\"fill_color\":{\"value\":\"#1f77b4\"},\"line_alpha\":{\"value\":0.1},\"line_color\":{\"value\":\"#1f77b4\"},\"size\":{\"units\":\"screen\",\"value\":12},\"x\":{\"field\":\"x\"},\"y\":{\"field\":\"y\"}},\"id\":\"29722\",\"type\":\"Asterisk\"},{\"attributes\":{},\"id\":\"30328\",\"type\":\"BasicTickFormatter\"},{\"attributes\":{\"bottom_units\":\"screen\",\"fill_alpha\":{\"value\":0.5},\"fill_color\":{\"value\":\"lightgrey\"},\"left_units\":\"screen\",\"level\":\"overlay\",\"line_alpha\":{\"value\":1.0},\"line_color\":{\"value\":\"black\"},\"line_dash\":[4,4],\"line_width\":{\"value\":2},\"render_mode\":\"css\",\"right_units\":\"screen\",\"top_units\":\"screen\"},\"id\":\"30331\",\"type\":\"BoxAnnotation\"},{\"attributes\":{},\"id\":\"29711\",\"type\":\"ResetTool\"},{\"attributes\":{\"text\":\"\"},\"id\":\"30323\",\"type\":\"Title\"},{\"attributes\":{\"active_drag\":\"auto\",\"active_inspect\":\"auto\",\"active_multi\":null,\"active_scroll\":\"auto\",\"active_tap\":\"auto\",\"tools\":[{\"id\":\"29707\",\"type\":\"PanTool\"},{\"id\":\"29708\",\"type\":\"WheelZoomTool\"},{\"id\":\"29709\",\"type\":\"BoxZoomTool\"},{\"id\":\"29710\",\"type\":\"SaveTool\"},{\"id\":\"29711\",\"type\":\"ResetTool\"},{\"id\":\"29712\",\"type\":\"HelpTool\"}]},\"id\":\"29713\",\"type\":\"Toolbar\"},{\"attributes\":{\"data_source\":{\"id\":\"29720\",\"type\":\"ColumnDataSource\"},\"glyph\":{\"id\":\"29721\",\"type\":\"Asterisk\"},\"hover_glyph\":null,\"muted_glyph\":null,\"nonselection_glyph\":{\"id\":\"29722\",\"type\":\"Asterisk\"},\"selection_glyph\":null,\"view\":{\"id\":\"29724\",\"type\":\"CDSView\"}},\"id\":\"29723\",\"type\":\"GlyphRenderer\"},{\"attributes\":{\"dimension\":1,\"ticker\":{\"id\":\"29703\",\"type\":\"BasicTicker\"}},\"id\":\"29706\",\"type\":\"Grid\"},{\"attributes\":{},\"id\":\"30330\",\"type\":\"Selection\"}],\"root_ids\":[\"29688\"]},\"title\":\"Bokeh Application\",\"version\":\"1.3.4\"}};\n",
       "  var render_items = [{\"docid\":\"2a59ecc9-6c8f-4967-947d-78facf78b621\",\"roots\":{\"29688\":\"6c71cff3-07d3-4a27-98f6-5932b44fae72\"}}];\n",
       "  root.Bokeh.embed.embed_items_notebook(docs_json, render_items);\n",
       "\n",
       "  }\n",
       "  if (root.Bokeh !== undefined) {\n",
       "    embed_document(root);\n",
       "  } else {\n",
       "    var attempts = 0;\n",
       "    var timer = setInterval(function(root) {\n",
       "      if (root.Bokeh !== undefined) {\n",
       "        embed_document(root);\n",
       "        clearInterval(timer);\n",
       "      }\n",
       "      attempts++;\n",
       "      if (attempts > 100) {\n",
       "        console.log(\"Bokeh: ERROR: Unable to run BokehJS code because BokehJS library is missing\");\n",
       "        clearInterval(timer);\n",
       "      }\n",
       "    }, 10, root)\n",
       "  }\n",
       "})(window);"
      ],
      "application/vnd.bokehjs_exec.v0+json": ""
     },
     "metadata": {
      "application/vnd.bokehjs_exec.v0+json": {
       "id": "29688"
      }
     },
     "output_type": "display_data"
    }
   ],
   "source": [
    "p = figure(plot_width=400, plot_height=400)\n",
    "p.asterisk([1,2,3,4,5], [2,5,8,2,7], size=12, color=\"olive\")\n",
    "\n",
    "# change just some things about the x-axes\n",
    "p.xaxis.axis_label = \"Temp\"\n",
    "p.xaxis.axis_line_width = 3\n",
    "p.xaxis.axis_line_color = \"red\"\n",
    "\n",
    "# change just some things about the y-axes\n",
    "p.yaxis.axis_label = \"Pressure\"\n",
    "p.yaxis.major_label_text_color = \"orange\"\n",
    "p.yaxis.major_label_orientation = \"vertical\"\n",
    "\n",
    "# change things on all axes\n",
    "p.axis.minor_tick_in = -3\n",
    "p.axis.minor_tick_out = 6\n",
    "\n",
    "show(p)"
   ]
  },
  {
   "cell_type": "code",
   "execution_count": 104,
   "metadata": {
    "Collapsed": "false"
   },
   "outputs": [
    {
     "data": {
      "text/html": [
       "\n",
       "\n",
       "\n",
       "\n",
       "\n",
       "\n",
       "  <div class=\"bk-root\" id=\"0d8b8bfb-4d6e-4c55-ba3b-74872f8fa9aa\" data-root-id=\"38899\"></div>\n"
      ]
     },
     "metadata": {},
     "output_type": "display_data"
    },
    {
     "data": {
      "application/javascript": [
       "(function(root) {\n",
       "  function embed_document(root) {\n",
       "    \n",
       "  var docs_json = {\"3312a5b1-b5c6-4415-9874-7b7b40977861\":{\"roots\":{\"references\":[{\"attributes\":{\"below\":[{\"id\":\"38908\",\"type\":\"LinearAxis\"}],\"center\":[{\"id\":\"38912\",\"type\":\"Grid\"},{\"id\":\"38917\",\"type\":\"Grid\"}],\"left\":[{\"id\":\"38913\",\"type\":\"LinearAxis\"}],\"plot_height\":200,\"plot_width\":400,\"renderers\":[{\"id\":\"38934\",\"type\":\"GlyphRenderer\"}],\"title\":{\"id\":\"39633\",\"type\":\"Title\"},\"toolbar\":{\"id\":\"38924\",\"type\":\"Toolbar\"},\"x_range\":{\"id\":\"38900\",\"type\":\"DataRange1d\"},\"x_scale\":{\"id\":\"38904\",\"type\":\"LinearScale\"},\"y_range\":{\"id\":\"38902\",\"type\":\"DataRange1d\"},\"y_scale\":{\"id\":\"38906\",\"type\":\"LinearScale\"}},\"id\":\"38899\",\"subtype\":\"Figure\",\"type\":\"Plot\"},{\"attributes\":{},\"id\":\"38918\",\"type\":\"PanTool\"},{\"attributes\":{},\"id\":\"38919\",\"type\":\"WheelZoomTool\"},{\"attributes\":{\"dimension\":1,\"ticker\":{\"id\":\"38914\",\"type\":\"BasicTicker\"}},\"id\":\"38917\",\"type\":\"Grid\"},{\"attributes\":{\"active_drag\":\"auto\",\"active_inspect\":\"auto\",\"active_multi\":null,\"active_scroll\":\"auto\",\"active_tap\":\"auto\",\"tools\":[{\"id\":\"38918\",\"type\":\"PanTool\"},{\"id\":\"38919\",\"type\":\"WheelZoomTool\"},{\"id\":\"38920\",\"type\":\"BoxZoomTool\"},{\"id\":\"38921\",\"type\":\"SaveTool\"},{\"id\":\"38922\",\"type\":\"ResetTool\"},{\"id\":\"38923\",\"type\":\"HelpTool\"}]},\"id\":\"38924\",\"type\":\"Toolbar\"},{\"attributes\":{\"callback\":null},\"id\":\"38902\",\"type\":\"DataRange1d\"},{\"attributes\":{\"source\":{\"id\":\"38931\",\"type\":\"ColumnDataSource\"}},\"id\":\"38935\",\"type\":\"CDSView\"},{\"attributes\":{},\"id\":\"39639\",\"type\":\"UnionRenderers\"},{\"attributes\":{\"bottom_units\":\"screen\",\"fill_alpha\":{\"value\":0.5},\"fill_color\":{\"value\":\"lightgrey\"},\"left_units\":\"screen\",\"level\":\"overlay\",\"line_alpha\":{\"value\":1.0},\"line_color\":{\"value\":\"black\"},\"line_dash\":[4,4],\"line_width\":{\"value\":2},\"render_mode\":\"css\",\"right_units\":\"screen\",\"top_units\":\"screen\"},\"id\":\"39641\",\"type\":\"BoxAnnotation\"},{\"attributes\":{\"ticker\":{\"id\":\"38909\",\"type\":\"BasicTicker\"}},\"id\":\"38912\",\"type\":\"Grid\"},{\"attributes\":{},\"id\":\"39636\",\"type\":\"BasicTickFormatter\"},{\"attributes\":{\"text\":\"\"},\"id\":\"39633\",\"type\":\"Title\"},{\"attributes\":{\"data_source\":{\"id\":\"38931\",\"type\":\"ColumnDataSource\"},\"glyph\":{\"id\":\"38932\",\"type\":\"X\"},\"hover_glyph\":null,\"muted_glyph\":null,\"nonselection_glyph\":{\"id\":\"38933\",\"type\":\"X\"},\"selection_glyph\":null,\"view\":{\"id\":\"38935\",\"type\":\"CDSView\"}},\"id\":\"38934\",\"type\":\"GlyphRenderer\"},{\"attributes\":{\"callback\":null},\"id\":\"38900\",\"type\":\"DataRange1d\"},{\"attributes\":{},\"id\":\"38904\",\"type\":\"LinearScale\"},{\"attributes\":{\"overlay\":{\"id\":\"39641\",\"type\":\"BoxAnnotation\"}},\"id\":\"38920\",\"type\":\"BoxZoomTool\"},{\"attributes\":{},\"id\":\"38921\",\"type\":\"SaveTool\"},{\"attributes\":{},\"id\":\"38922\",\"type\":\"ResetTool\"},{\"attributes\":{},\"id\":\"39638\",\"type\":\"BasicTickFormatter\"},{\"attributes\":{},\"id\":\"39640\",\"type\":\"Selection\"},{\"attributes\":{\"axis_label\":\"Y-axis\",\"formatter\":{\"id\":\"39638\",\"type\":\"BasicTickFormatter\"},\"major_label_orientation\":\"horizontal\",\"major_label_text_color\":{\"value\":\"#61ABF5\"},\"minor_tick_in\":-1,\"minor_tick_out\":1,\"ticker\":{\"id\":\"38914\",\"type\":\"BasicTicker\"}},\"id\":\"38913\",\"type\":\"LinearAxis\"},{\"attributes\":{},\"id\":\"38906\",\"type\":\"LinearScale\"},{\"attributes\":{},\"id\":\"38923\",\"type\":\"HelpTool\"},{\"attributes\":{\"fill_color\":{\"value\":\"#38628C\"},\"line_color\":{\"value\":\"#38628C\"},\"size\":{\"units\":\"screen\",\"value\":10},\"x\":{\"field\":\"x\"},\"y\":{\"field\":\"y\"}},\"id\":\"38932\",\"type\":\"X\"},{\"attributes\":{},\"id\":\"38909\",\"type\":\"BasicTicker\"},{\"attributes\":{},\"id\":\"38914\",\"type\":\"BasicTicker\"},{\"attributes\":{\"callback\":null,\"data\":{\"x\":[2,4,2,4,6],\"y\":[1,3,5,7,9]},\"selected\":{\"id\":\"39640\",\"type\":\"Selection\"},\"selection_policy\":{\"id\":\"39639\",\"type\":\"UnionRenderers\"}},\"id\":\"38931\",\"type\":\"ColumnDataSource\"},{\"attributes\":{\"axis_label\":\"X-axis\",\"axis_line_color\":{\"value\":\"olive\"},\"axis_line_width\":{\"value\":2},\"formatter\":{\"id\":\"39636\",\"type\":\"BasicTickFormatter\"},\"major_label_text_color\":{\"value\":\"#61ABF5\"},\"minor_tick_in\":-1,\"minor_tick_out\":1,\"ticker\":{\"id\":\"38909\",\"type\":\"BasicTicker\"}},\"id\":\"38908\",\"type\":\"LinearAxis\"},{\"attributes\":{\"fill_alpha\":{\"value\":0.1},\"fill_color\":{\"value\":\"#1f77b4\"},\"line_alpha\":{\"value\":0.1},\"line_color\":{\"value\":\"#1f77b4\"},\"size\":{\"units\":\"screen\",\"value\":10},\"x\":{\"field\":\"x\"},\"y\":{\"field\":\"y\"}},\"id\":\"38933\",\"type\":\"X\"}],\"root_ids\":[\"38899\"]},\"title\":\"Bokeh Application\",\"version\":\"1.3.4\"}};\n",
       "  var render_items = [{\"docid\":\"3312a5b1-b5c6-4415-9874-7b7b40977861\",\"roots\":{\"38899\":\"0d8b8bfb-4d6e-4c55-ba3b-74872f8fa9aa\"}}];\n",
       "  root.Bokeh.embed.embed_items_notebook(docs_json, render_items);\n",
       "\n",
       "  }\n",
       "  if (root.Bokeh !== undefined) {\n",
       "    embed_document(root);\n",
       "  } else {\n",
       "    var attempts = 0;\n",
       "    var timer = setInterval(function(root) {\n",
       "      if (root.Bokeh !== undefined) {\n",
       "        embed_document(root);\n",
       "        clearInterval(timer);\n",
       "      }\n",
       "      attempts++;\n",
       "      if (attempts > 100) {\n",
       "        console.log(\"Bokeh: ERROR: Unable to run BokehJS code because BokehJS library is missing\");\n",
       "        clearInterval(timer);\n",
       "      }\n",
       "    }, 10, root)\n",
       "  }\n",
       "})(window);"
      ],
      "application/vnd.bokehjs_exec.v0+json": ""
     },
     "metadata": {
      "application/vnd.bokehjs_exec.v0+json": {
       "id": "38899"
      }
     },
     "output_type": "display_data"
    }
   ],
   "source": [
    "# EXERCISE Create a plot of your own and customize several axis properties\n",
    "\n",
    "p = figure(plot_width=400, plot_height=200)\n",
    "p.x([2,4,2,4,6], [1,3,5,7,9], size=10, color=\"#38628C\")\n",
    "\n",
    "# change just some things about the x-axes\n",
    "p.xaxis.axis_label = \"X-axis\"\n",
    "p.xaxis.axis_line_width = 2\n",
    "p.xaxis.axis_line_color = \"olive\"\n",
    "\n",
    "# change just some things about the y-axes\n",
    "p.yaxis.axis_label = \"Y-axis\"\n",
    "p.yaxis.major_label_orientation = \"horizontal\"\n",
    "\n",
    "# change things on all axes\n",
    "p.axis.minor_tick_in = -1\n",
    "p.axis.minor_tick_out = 1\n",
    "p.axis.major_label_text_color = \"#61ABF5\"\n",
    "\n",
    "show(p)"
   ]
  },
  {
   "cell_type": "markdown",
   "metadata": {
    "Collapsed": "false"
   },
   "source": [
    "## Configuring tick labels\n",
    "\n",
    "All Bokeh axes have a `formatter` property, whose value is a `TickFormatter` object that Bokeh uses to format the ticks displayed by that axis. Bokeh will configure default tick formatters for numeric, datetime, or categotical axes. But often we would like to customize the appearance of tick labels. This can be accomplished by changing properties on the default formatter that Bokeh chooses, or by replacing the formatter with a new type entirely. \n",
    "\n",
    "Let's first look at changing the properties of a default formatter. The default datetime formatter is configured to show *month/day* when the axis is on the scale of days. If would like the also always show the year, we can change the `days` property to a format that includes the year, as done below. "
   ]
  },
  {
   "cell_type": "code",
   "execution_count": null,
   "metadata": {},
   "outputs": [],
   "source": [
    "from math import pi\n",
    "from bokeh.sampledata.glucose import data\n",
    "\n",
    "week = data.loc['2010-10-01':'2010-10-08']\n",
    "\n",
    "p = figure(x_axis_type=\"datetime\", title=\"Glocose Range\", plot_height=350, plot_width=800)\n",
    "p.xaxis.formatter.days = '%m/%d/%Y'\n",
    "p.xaxis.major_label_orientation = pi/3\n",
    "\n",
    "p.line(week.index, week.glucose)\n",
    "\n",
    "show(p)"
   ]
  },
  {
   "cell_type": "markdown",
   "metadata": {
    "Collapsed": "false"
   },
   "source": [
    "See the reference guide entry for [DatetimeTickFormatter](https://bokeh.pydata.org/en/latest/docs/reference/models/formatters.html#bokeh.models.formatters.DatetimeTickFormatter) to see other properties that can be updated. \n",
    "\n",
    "In addition to the tick formatters that Bokeh will use by default, there are others such as the [`NumeralTickFormatter`](https://bokeh.pydata.org/en/latest/docs/user_guide/styling.html#numeraltickformatter) that we can configure explicitly. The example below shows how to set a formatter on each axis. "
   ]
  },
  {
   "cell_type": "code",
   "execution_count": 107,
   "metadata": {
    "Collapsed": "false"
   },
   "outputs": [
    {
     "data": {
      "text/html": [
       "\n",
       "\n",
       "\n",
       "\n",
       "\n",
       "\n",
       "  <div class=\"bk-root\" id=\"09a3eee4-eca7-4e69-9a29-0f2dec2bae15\" data-root-id=\"39855\"></div>\n"
      ]
     },
     "metadata": {},
     "output_type": "display_data"
    },
    {
     "data": {
      "application/javascript": [
       "(function(root) {\n",
       "  function embed_document(root) {\n",
       "    \n",
       "  var docs_json = {\"7ac55021-6d60-4855-bae5-43d1dcc5a0dd\":{\"roots\":{\"references\":[{\"attributes\":{\"below\":[{\"id\":\"39864\",\"type\":\"LinearAxis\"}],\"center\":[{\"id\":\"39868\",\"type\":\"Grid\"},{\"id\":\"39873\",\"type\":\"Grid\"}],\"left\":[{\"id\":\"39869\",\"type\":\"LinearAxis\"}],\"plot_height\":300,\"plot_width\":800,\"renderers\":[{\"id\":\"39890\",\"type\":\"GlyphRenderer\"}],\"title\":{\"id\":\"40602\",\"type\":\"Title\"},\"toolbar\":{\"id\":\"39880\",\"type\":\"Toolbar\"},\"x_range\":{\"id\":\"39856\",\"type\":\"DataRange1d\"},\"x_scale\":{\"id\":\"39860\",\"type\":\"LinearScale\"},\"y_range\":{\"id\":\"39858\",\"type\":\"DataRange1d\"},\"y_scale\":{\"id\":\"39862\",\"type\":\"LinearScale\"}},\"id\":\"39855\",\"subtype\":\"Figure\",\"type\":\"Plot\"},{\"attributes\":{},\"id\":\"39877\",\"type\":\"SaveTool\"},{\"attributes\":{},\"id\":\"39878\",\"type\":\"ResetTool\"},{\"attributes\":{},\"id\":\"40606\",\"type\":\"UnionRenderers\"},{\"attributes\":{},\"id\":\"39862\",\"type\":\"LinearScale\"},{\"attributes\":{\"callback\":null,\"data\":{\"x\":[1,2,3,4,5],\"y\":[2,5,8,2,7]},\"selected\":{\"id\":\"40607\",\"type\":\"Selection\"},\"selection_policy\":{\"id\":\"40606\",\"type\":\"UnionRenderers\"}},\"id\":\"39887\",\"type\":\"ColumnDataSource\"},{\"attributes\":{},\"id\":\"39879\",\"type\":\"HelpTool\"},{\"attributes\":{\"formatter\":{\"id\":\"39892\",\"type\":\"NumeralTickFormatter\"},\"ticker\":{\"id\":\"39865\",\"type\":\"BasicTicker\"}},\"id\":\"39864\",\"type\":\"LinearAxis\"},{\"attributes\":{},\"id\":\"40607\",\"type\":\"Selection\"},{\"attributes\":{\"active_drag\":\"auto\",\"active_inspect\":\"auto\",\"active_multi\":null,\"active_scroll\":\"auto\",\"active_tap\":\"auto\",\"tools\":[{\"id\":\"39874\",\"type\":\"PanTool\"},{\"id\":\"39875\",\"type\":\"WheelZoomTool\"},{\"id\":\"39876\",\"type\":\"BoxZoomTool\"},{\"id\":\"39877\",\"type\":\"SaveTool\"},{\"id\":\"39878\",\"type\":\"ResetTool\"},{\"id\":\"39879\",\"type\":\"HelpTool\"}]},\"id\":\"39880\",\"type\":\"Toolbar\"},{\"attributes\":{},\"id\":\"39870\",\"type\":\"BasicTicker\"},{\"attributes\":{},\"id\":\"39865\",\"type\":\"BasicTicker\"},{\"attributes\":{\"text\":\"\"},\"id\":\"40602\",\"type\":\"Title\"},{\"attributes\":{\"ticker\":{\"id\":\"39865\",\"type\":\"BasicTicker\"}},\"id\":\"39868\",\"type\":\"Grid\"},{\"attributes\":{\"bottom_units\":\"screen\",\"fill_alpha\":{\"value\":0.5},\"fill_color\":{\"value\":\"lightgrey\"},\"left_units\":\"screen\",\"level\":\"overlay\",\"line_alpha\":{\"value\":1.0},\"line_color\":{\"value\":\"black\"},\"line_dash\":[4,4],\"line_width\":{\"value\":2},\"render_mode\":\"css\",\"right_units\":\"screen\",\"top_units\":\"screen\"},\"id\":\"40608\",\"type\":\"BoxAnnotation\"},{\"attributes\":{\"formatter\":{\"id\":\"39894\",\"type\":\"NumeralTickFormatter\"},\"ticker\":{\"id\":\"39870\",\"type\":\"BasicTicker\"}},\"id\":\"39869\",\"type\":\"LinearAxis\"},{\"attributes\":{\"format\":\"$0.00\"},\"id\":\"39894\",\"type\":\"NumeralTickFormatter\"},{\"attributes\":{\"dimension\":1,\"ticker\":{\"id\":\"39870\",\"type\":\"BasicTicker\"}},\"id\":\"39873\",\"type\":\"Grid\"},{\"attributes\":{\"fill_alpha\":{\"value\":0.1},\"fill_color\":{\"value\":\"#1f77b4\"},\"line_alpha\":{\"value\":0.1},\"line_color\":{\"value\":\"#1f77b4\"},\"size\":{\"units\":\"screen\",\"value\":10},\"x\":{\"field\":\"x\"},\"y\":{\"field\":\"y\"}},\"id\":\"39889\",\"type\":\"Circle\"},{\"attributes\":{\"source\":{\"id\":\"39887\",\"type\":\"ColumnDataSource\"}},\"id\":\"39891\",\"type\":\"CDSView\"},{\"attributes\":{\"data_source\":{\"id\":\"39887\",\"type\":\"ColumnDataSource\"},\"glyph\":{\"id\":\"39888\",\"type\":\"Circle\"},\"hover_glyph\":null,\"muted_glyph\":null,\"nonselection_glyph\":{\"id\":\"39889\",\"type\":\"Circle\"},\"selection_glyph\":null,\"view\":{\"id\":\"39891\",\"type\":\"CDSView\"}},\"id\":\"39890\",\"type\":\"GlyphRenderer\"},{\"attributes\":{\"format\":\"0.0%\"},\"id\":\"39892\",\"type\":\"NumeralTickFormatter\"},{\"attributes\":{\"fill_color\":{\"value\":\"#1f77b4\"},\"line_color\":{\"value\":\"#1f77b4\"},\"size\":{\"units\":\"screen\",\"value\":10},\"x\":{\"field\":\"x\"},\"y\":{\"field\":\"y\"}},\"id\":\"39888\",\"type\":\"Circle\"},{\"attributes\":{},\"id\":\"39874\",\"type\":\"PanTool\"},{\"attributes\":{\"callback\":null},\"id\":\"39856\",\"type\":\"DataRange1d\"},{\"attributes\":{},\"id\":\"39875\",\"type\":\"WheelZoomTool\"},{\"attributes\":{\"callback\":null},\"id\":\"39858\",\"type\":\"DataRange1d\"},{\"attributes\":{\"overlay\":{\"id\":\"40608\",\"type\":\"BoxAnnotation\"}},\"id\":\"39876\",\"type\":\"BoxZoomTool\"},{\"attributes\":{},\"id\":\"39860\",\"type\":\"LinearScale\"}],\"root_ids\":[\"39855\"]},\"title\":\"Bokeh Application\",\"version\":\"1.3.4\"}};\n",
       "  var render_items = [{\"docid\":\"7ac55021-6d60-4855-bae5-43d1dcc5a0dd\",\"roots\":{\"39855\":\"09a3eee4-eca7-4e69-9a29-0f2dec2bae15\"}}];\n",
       "  root.Bokeh.embed.embed_items_notebook(docs_json, render_items);\n",
       "\n",
       "  }\n",
       "  if (root.Bokeh !== undefined) {\n",
       "    embed_document(root);\n",
       "  } else {\n",
       "    var attempts = 0;\n",
       "    var timer = setInterval(function(root) {\n",
       "      if (root.Bokeh !== undefined) {\n",
       "        embed_document(root);\n",
       "        clearInterval(timer);\n",
       "      }\n",
       "      attempts++;\n",
       "      if (attempts > 100) {\n",
       "        console.log(\"Bokeh: ERROR: Unable to run BokehJS code because BokehJS library is missing\");\n",
       "        clearInterval(timer);\n",
       "      }\n",
       "    }, 10, root)\n",
       "  }\n",
       "})(window);"
      ],
      "application/vnd.bokehjs_exec.v0+json": ""
     },
     "metadata": {
      "application/vnd.bokehjs_exec.v0+json": {
       "id": "39855"
      }
     },
     "output_type": "display_data"
    }
   ],
   "source": [
    "from bokeh.models import NumeralTickFormatter\n",
    "\n",
    "p = figure(plot_height=300, plot_width=800)\n",
    "p.circle([1,2,3,4,5], [2,5,8,2,7], size=10)\n",
    "\n",
    "p.xaxis.formatter = NumeralTickFormatter(format=\"0.0%\")\n",
    "p.yaxis.formatter = NumeralTickFormatter(format=\"$0.00\")\n",
    "\n",
    "show(p)"
   ]
  },
  {
   "cell_type": "markdown",
   "metadata": {
    "Collapsed": "false"
   },
   "source": [
    "Try experimenting with the format argument and re-execute the cell above.\n",
    "\n",
    "There are many other possibilities for controlling tick formatting, including the possibility of supplying a JavaScript snippet to perform arbitrary formatting in the browser. See the [Tick Label Formats](https://bokeh.pydata.org/en/latest/docs/user_guide/styling.html#tick-label-formats) for more details.  \n",
    "\n",
    "\n",
    "It is also possible to customize *where* ticks will be drawn. See the [Tick Locations](https://bokeh.pydata.org/en/latest/docs/user_guide/styling.html#tick-locations) section of the User's Guide for more information."
   ]
  },
  {
   "cell_type": "markdown",
   "metadata": {
    "Collapsed": "false"
   },
   "source": [
    "# Grids\n",
    "\n",
    "It is also possible to control the [styling of Grids](https://bokeh.pydata.org/en/latest/docs/user_guide/styling.html#grids)\n",
    "\n",
    "Grids properties in Bokeh have two possible prefixes:\n",
    "\n",
    "* **grid** properties (which are [line properties](https://bokeh.pydata.org/en/latest/docs/user_guide/styling.html#line-properties)) control the \"grid lines\"\n",
    "* **band** properties (which are [fill properties](https://bokeh.pydata.org/en/latest/docs/user_guide/styling.html#fill-properties)) control shaded bands between grid lines\n",
    "\n",
    "In this first example we turn off the vertical grid lines (by setting the line color to None) and set the horizontal grid to be light and dashed."
   ]
  },
  {
   "cell_type": "code",
   "execution_count": 109,
   "metadata": {
    "Collapsed": "false"
   },
   "outputs": [
    {
     "data": {
      "text/html": [
       "\n",
       "\n",
       "\n",
       "\n",
       "\n",
       "\n",
       "  <div class=\"bk-root\" id=\"aaa30ad3-9c55-45ce-892d-ad91b6309640\" data-root-id=\"40756\"></div>\n"
      ]
     },
     "metadata": {},
     "output_type": "display_data"
    },
    {
     "data": {
      "application/javascript": [
       "(function(root) {\n",
       "  function embed_document(root) {\n",
       "    \n",
       "  var docs_json = {\"93ac7c83-f095-4323-8e83-a5d84a48ad43\":{\"roots\":{\"references\":[{\"attributes\":{\"below\":[{\"id\":\"40765\",\"type\":\"LinearAxis\"}],\"center\":[{\"id\":\"40769\",\"type\":\"Grid\"},{\"id\":\"40774\",\"type\":\"Grid\"}],\"left\":[{\"id\":\"40770\",\"type\":\"LinearAxis\"}],\"plot_height\":400,\"plot_width\":400,\"renderers\":[{\"id\":\"40791\",\"type\":\"GlyphRenderer\"}],\"title\":{\"id\":\"41506\",\"type\":\"Title\"},\"toolbar\":{\"id\":\"40781\",\"type\":\"Toolbar\"},\"x_range\":{\"id\":\"40757\",\"type\":\"DataRange1d\"},\"x_scale\":{\"id\":\"40761\",\"type\":\"LinearScale\"},\"y_range\":{\"id\":\"40759\",\"type\":\"DataRange1d\"},\"y_scale\":{\"id\":\"40763\",\"type\":\"LinearScale\"}},\"id\":\"40756\",\"subtype\":\"Figure\",\"type\":\"Plot\"},{\"attributes\":{\"grid_line_color\":null,\"ticker\":{\"id\":\"40766\",\"type\":\"BasicTicker\"}},\"id\":\"40769\",\"type\":\"Grid\"},{\"attributes\":{\"formatter\":{\"id\":\"41509\",\"type\":\"BasicTickFormatter\"},\"ticker\":{\"id\":\"40766\",\"type\":\"BasicTicker\"}},\"id\":\"40765\",\"type\":\"LinearAxis\"},{\"attributes\":{},\"id\":\"40761\",\"type\":\"LinearScale\"},{\"attributes\":{\"data_source\":{\"id\":\"40788\",\"type\":\"ColumnDataSource\"},\"glyph\":{\"id\":\"40789\",\"type\":\"Circle\"},\"hover_glyph\":null,\"muted_glyph\":null,\"nonselection_glyph\":{\"id\":\"40790\",\"type\":\"Circle\"},\"selection_glyph\":null,\"view\":{\"id\":\"40792\",\"type\":\"CDSView\"}},\"id\":\"40791\",\"type\":\"GlyphRenderer\"},{\"attributes\":{\"active_drag\":\"auto\",\"active_inspect\":\"auto\",\"active_multi\":null,\"active_scroll\":\"auto\",\"active_tap\":\"auto\",\"tools\":[{\"id\":\"40775\",\"type\":\"PanTool\"},{\"id\":\"40776\",\"type\":\"WheelZoomTool\"},{\"id\":\"40777\",\"type\":\"BoxZoomTool\"},{\"id\":\"40778\",\"type\":\"SaveTool\"},{\"id\":\"40779\",\"type\":\"ResetTool\"},{\"id\":\"40780\",\"type\":\"HelpTool\"}]},\"id\":\"40781\",\"type\":\"Toolbar\"},{\"attributes\":{},\"id\":\"41509\",\"type\":\"BasicTickFormatter\"},{\"attributes\":{},\"id\":\"40780\",\"type\":\"HelpTool\"},{\"attributes\":{},\"id\":\"40763\",\"type\":\"LinearScale\"},{\"attributes\":{},\"id\":\"41511\",\"type\":\"BasicTickFormatter\"},{\"attributes\":{\"fill_alpha\":{\"value\":0.1},\"fill_color\":{\"value\":\"#1f77b4\"},\"line_alpha\":{\"value\":0.1},\"line_color\":{\"value\":\"#1f77b4\"},\"size\":{\"units\":\"screen\",\"value\":10},\"x\":{\"field\":\"x\"},\"y\":{\"field\":\"y\"}},\"id\":\"40790\",\"type\":\"Circle\"},{\"attributes\":{\"dimension\":1,\"grid_line_alpha\":0.5,\"grid_line_dash\":[6,4],\"ticker\":{\"id\":\"40771\",\"type\":\"BasicTicker\"}},\"id\":\"40774\",\"type\":\"Grid\"},{\"attributes\":{},\"id\":\"40766\",\"type\":\"BasicTicker\"},{\"attributes\":{\"text\":\"\"},\"id\":\"41506\",\"type\":\"Title\"},{\"attributes\":{\"callback\":null,\"data\":{\"x\":[1,2,3,4,5],\"y\":[2,5,8,2,7]},\"selected\":{\"id\":\"41513\",\"type\":\"Selection\"},\"selection_policy\":{\"id\":\"41512\",\"type\":\"UnionRenderers\"}},\"id\":\"40788\",\"type\":\"ColumnDataSource\"},{\"attributes\":{\"callback\":null},\"id\":\"40759\",\"type\":\"DataRange1d\"},{\"attributes\":{},\"id\":\"40776\",\"type\":\"WheelZoomTool\"},{\"attributes\":{},\"id\":\"41512\",\"type\":\"UnionRenderers\"},{\"attributes\":{\"bottom_units\":\"screen\",\"fill_alpha\":{\"value\":0.5},\"fill_color\":{\"value\":\"lightgrey\"},\"left_units\":\"screen\",\"level\":\"overlay\",\"line_alpha\":{\"value\":1.0},\"line_color\":{\"value\":\"black\"},\"line_dash\":[4,4],\"line_width\":{\"value\":2},\"render_mode\":\"css\",\"right_units\":\"screen\",\"top_units\":\"screen\"},\"id\":\"41514\",\"type\":\"BoxAnnotation\"},{\"attributes\":{},\"id\":\"40775\",\"type\":\"PanTool\"},{\"attributes\":{},\"id\":\"40779\",\"type\":\"ResetTool\"},{\"attributes\":{\"callback\":null},\"id\":\"40757\",\"type\":\"DataRange1d\"},{\"attributes\":{},\"id\":\"40778\",\"type\":\"SaveTool\"},{\"attributes\":{},\"id\":\"41513\",\"type\":\"Selection\"},{\"attributes\":{},\"id\":\"40771\",\"type\":\"BasicTicker\"},{\"attributes\":{\"formatter\":{\"id\":\"41511\",\"type\":\"BasicTickFormatter\"},\"ticker\":{\"id\":\"40771\",\"type\":\"BasicTicker\"}},\"id\":\"40770\",\"type\":\"LinearAxis\"},{\"attributes\":{\"overlay\":{\"id\":\"41514\",\"type\":\"BoxAnnotation\"}},\"id\":\"40777\",\"type\":\"BoxZoomTool\"},{\"attributes\":{\"source\":{\"id\":\"40788\",\"type\":\"ColumnDataSource\"}},\"id\":\"40792\",\"type\":\"CDSView\"},{\"attributes\":{\"fill_color\":{\"value\":\"#1f77b4\"},\"line_color\":{\"value\":\"#1f77b4\"},\"size\":{\"units\":\"screen\",\"value\":10},\"x\":{\"field\":\"x\"},\"y\":{\"field\":\"y\"}},\"id\":\"40789\",\"type\":\"Circle\"}],\"root_ids\":[\"40756\"]},\"title\":\"Bokeh Application\",\"version\":\"1.3.4\"}};\n",
       "  var render_items = [{\"docid\":\"93ac7c83-f095-4323-8e83-a5d84a48ad43\",\"roots\":{\"40756\":\"aaa30ad3-9c55-45ce-892d-ad91b6309640\"}}];\n",
       "  root.Bokeh.embed.embed_items_notebook(docs_json, render_items);\n",
       "\n",
       "  }\n",
       "  if (root.Bokeh !== undefined) {\n",
       "    embed_document(root);\n",
       "  } else {\n",
       "    var attempts = 0;\n",
       "    var timer = setInterval(function(root) {\n",
       "      if (root.Bokeh !== undefined) {\n",
       "        embed_document(root);\n",
       "        clearInterval(timer);\n",
       "      }\n",
       "      attempts++;\n",
       "      if (attempts > 100) {\n",
       "        console.log(\"Bokeh: ERROR: Unable to run BokehJS code because BokehJS library is missing\");\n",
       "        clearInterval(timer);\n",
       "      }\n",
       "    }, 10, root)\n",
       "  }\n",
       "})(window);"
      ],
      "application/vnd.bokehjs_exec.v0+json": ""
     },
     "metadata": {
      "application/vnd.bokehjs_exec.v0+json": {
       "id": "40756"
      }
     },
     "output_type": "display_data"
    }
   ],
   "source": [
    "p = figure(plot_width=400, plot_height=400)\n",
    "p.circle([1,2,3,4,5], [2,5,8,2,7], size=10)\n",
    "\n",
    "# change just some things about the x-grid\n",
    "p.xgrid.grid_line_color = None\n",
    "\n",
    "# change just some things about the y-grid\n",
    "p.ygrid.grid_line_alpha = 0.5\n",
    "p.ygrid.grid_line_dash = [6, 4]\n",
    "\n",
    "show(p)"
   ]
  },
  {
   "cell_type": "markdown",
   "metadata": {
    "Collapsed": "false"
   },
   "source": [
    "The next example shows how the \"band\" properties of a plot can be specified"
   ]
  },
  {
   "cell_type": "code",
   "execution_count": 110,
   "metadata": {
    "Collapsed": "false"
   },
   "outputs": [
    {
     "data": {
      "text/html": [
       "\n",
       "\n",
       "\n",
       "\n",
       "\n",
       "\n",
       "  <div class=\"bk-root\" id=\"6d97efe3-d11d-47bb-bb54-bb2d1a792769\" data-root-id=\"41660\"></div>\n"
      ]
     },
     "metadata": {},
     "output_type": "display_data"
    },
    {
     "data": {
      "application/javascript": [
       "(function(root) {\n",
       "  function embed_document(root) {\n",
       "    \n",
       "  var docs_json = {\"5e2c8489-3cdd-4682-84c0-b0408a9432c9\":{\"roots\":{\"references\":[{\"attributes\":{\"below\":[{\"id\":\"41669\",\"type\":\"LinearAxis\"}],\"center\":[{\"id\":\"41673\",\"type\":\"Grid\"},{\"id\":\"41678\",\"type\":\"Grid\"}],\"left\":[{\"id\":\"41674\",\"type\":\"LinearAxis\"}],\"plot_height\":400,\"plot_width\":400,\"renderers\":[{\"id\":\"41695\",\"type\":\"GlyphRenderer\"}],\"title\":{\"id\":\"42419\",\"type\":\"Title\"},\"toolbar\":{\"id\":\"41685\",\"type\":\"Toolbar\"},\"x_range\":{\"id\":\"41661\",\"type\":\"DataRange1d\"},\"x_scale\":{\"id\":\"41665\",\"type\":\"LinearScale\"},\"y_range\":{\"id\":\"41663\",\"type\":\"DataRange1d\"},\"y_scale\":{\"id\":\"41667\",\"type\":\"LinearScale\"}},\"id\":\"41660\",\"subtype\":\"Figure\",\"type\":\"Plot\"},{\"attributes\":{\"formatter\":{\"id\":\"42422\",\"type\":\"BasicTickFormatter\"},\"ticker\":{\"id\":\"41670\",\"type\":\"BasicTicker\"}},\"id\":\"41669\",\"type\":\"LinearAxis\"},{\"attributes\":{},\"id\":\"42425\",\"type\":\"UnionRenderers\"},{\"attributes\":{\"callback\":null},\"id\":\"41663\",\"type\":\"DataRange1d\"},{\"attributes\":{\"fill_alpha\":{\"value\":0.1},\"fill_color\":{\"value\":\"#1f77b4\"},\"line_alpha\":{\"value\":0.1},\"line_color\":{\"value\":\"#1f77b4\"},\"size\":{\"units\":\"screen\",\"value\":10},\"x\":{\"field\":\"x\"},\"y\":{\"field\":\"y\"}},\"id\":\"41694\",\"type\":\"Circle\"},{\"attributes\":{},\"id\":\"41665\",\"type\":\"LinearScale\"},{\"attributes\":{\"text\":\"\"},\"id\":\"42419\",\"type\":\"Title\"},{\"attributes\":{},\"id\":\"42426\",\"type\":\"Selection\"},{\"attributes\":{},\"id\":\"41679\",\"type\":\"PanTool\"},{\"attributes\":{\"source\":{\"id\":\"41692\",\"type\":\"ColumnDataSource\"}},\"id\":\"41696\",\"type\":\"CDSView\"},{\"attributes\":{},\"id\":\"41667\",\"type\":\"LinearScale\"},{\"attributes\":{\"formatter\":{\"id\":\"42424\",\"type\":\"BasicTickFormatter\"},\"ticker\":{\"id\":\"41675\",\"type\":\"BasicTicker\"}},\"id\":\"41674\",\"type\":\"LinearAxis\"},{\"attributes\":{},\"id\":\"41682\",\"type\":\"SaveTool\"},{\"attributes\":{\"data_source\":{\"id\":\"41692\",\"type\":\"ColumnDataSource\"},\"glyph\":{\"id\":\"41693\",\"type\":\"Circle\"},\"hover_glyph\":null,\"muted_glyph\":null,\"nonselection_glyph\":{\"id\":\"41694\",\"type\":\"Circle\"},\"selection_glyph\":null,\"view\":{\"id\":\"41696\",\"type\":\"CDSView\"}},\"id\":\"41695\",\"type\":\"GlyphRenderer\"},{\"attributes\":{},\"id\":\"41684\",\"type\":\"HelpTool\"},{\"attributes\":{},\"id\":\"42424\",\"type\":\"BasicTickFormatter\"},{\"attributes\":{\"callback\":null,\"data\":{\"x\":[1,2,3,4,5],\"y\":[2,5,8,2,7]},\"selected\":{\"id\":\"42426\",\"type\":\"Selection\"},\"selection_policy\":{\"id\":\"42425\",\"type\":\"UnionRenderers\"}},\"id\":\"41692\",\"type\":\"ColumnDataSource\"},{\"attributes\":{\"active_drag\":\"auto\",\"active_inspect\":\"auto\",\"active_multi\":null,\"active_scroll\":\"auto\",\"active_tap\":\"auto\",\"tools\":[{\"id\":\"41679\",\"type\":\"PanTool\"},{\"id\":\"41680\",\"type\":\"WheelZoomTool\"},{\"id\":\"41681\",\"type\":\"BoxZoomTool\"},{\"id\":\"41682\",\"type\":\"SaveTool\"},{\"id\":\"41683\",\"type\":\"ResetTool\"},{\"id\":\"41684\",\"type\":\"HelpTool\"}]},\"id\":\"41685\",\"type\":\"Toolbar\"},{\"attributes\":{\"bottom_units\":\"screen\",\"fill_alpha\":{\"value\":0.5},\"fill_color\":{\"value\":\"lightgrey\"},\"left_units\":\"screen\",\"level\":\"overlay\",\"line_alpha\":{\"value\":1.0},\"line_color\":{\"value\":\"black\"},\"line_dash\":[4,4],\"line_width\":{\"value\":2},\"render_mode\":\"css\",\"right_units\":\"screen\",\"top_units\":\"screen\"},\"id\":\"42427\",\"type\":\"BoxAnnotation\"},{\"attributes\":{\"grid_line_color\":null,\"ticker\":{\"id\":\"41670\",\"type\":\"BasicTicker\"}},\"id\":\"41673\",\"type\":\"Grid\"},{\"attributes\":{\"overlay\":{\"id\":\"42427\",\"type\":\"BoxAnnotation\"}},\"id\":\"41681\",\"type\":\"BoxZoomTool\"},{\"attributes\":{\"callback\":null},\"id\":\"41661\",\"type\":\"DataRange1d\"},{\"attributes\":{},\"id\":\"41680\",\"type\":\"WheelZoomTool\"},{\"attributes\":{},\"id\":\"41675\",\"type\":\"BasicTicker\"},{\"attributes\":{},\"id\":\"41670\",\"type\":\"BasicTicker\"},{\"attributes\":{},\"id\":\"42422\",\"type\":\"BasicTickFormatter\"},{\"attributes\":{},\"id\":\"41683\",\"type\":\"ResetTool\"},{\"attributes\":{\"fill_color\":{\"value\":\"#1f77b4\"},\"line_color\":{\"value\":\"#1f77b4\"},\"size\":{\"units\":\"screen\",\"value\":10},\"x\":{\"field\":\"x\"},\"y\":{\"field\":\"y\"}},\"id\":\"41693\",\"type\":\"Circle\"},{\"attributes\":{\"band_fill_alpha\":0.1,\"band_fill_color\":\"navy\",\"dimension\":1,\"ticker\":{\"id\":\"41675\",\"type\":\"BasicTicker\"}},\"id\":\"41678\",\"type\":\"Grid\"}],\"root_ids\":[\"41660\"]},\"title\":\"Bokeh Application\",\"version\":\"1.3.4\"}};\n",
       "  var render_items = [{\"docid\":\"5e2c8489-3cdd-4682-84c0-b0408a9432c9\",\"roots\":{\"41660\":\"6d97efe3-d11d-47bb-bb54-bb2d1a792769\"}}];\n",
       "  root.Bokeh.embed.embed_items_notebook(docs_json, render_items);\n",
       "\n",
       "  }\n",
       "  if (root.Bokeh !== undefined) {\n",
       "    embed_document(root);\n",
       "  } else {\n",
       "    var attempts = 0;\n",
       "    var timer = setInterval(function(root) {\n",
       "      if (root.Bokeh !== undefined) {\n",
       "        embed_document(root);\n",
       "        clearInterval(timer);\n",
       "      }\n",
       "      attempts++;\n",
       "      if (attempts > 100) {\n",
       "        console.log(\"Bokeh: ERROR: Unable to run BokehJS code because BokehJS library is missing\");\n",
       "        clearInterval(timer);\n",
       "      }\n",
       "    }, 10, root)\n",
       "  }\n",
       "})(window);"
      ],
      "application/vnd.bokehjs_exec.v0+json": ""
     },
     "metadata": {
      "application/vnd.bokehjs_exec.v0+json": {
       "id": "41660"
      }
     },
     "output_type": "display_data"
    }
   ],
   "source": [
    "p = figure(plot_width=400, plot_height=400)\n",
    "p.circle([1,2,3,4,5], [2,5,8,2,7], size=10)\n",
    "\n",
    "# change just some things about the x-grid\n",
    "p.xgrid.grid_line_color = None\n",
    "\n",
    "# change just some things about the y-grid\n",
    "p.ygrid.band_fill_alpha = 0.1\n",
    "p.ygrid.band_fill_color = \"navy\"\n",
    "\n",
    "show(p)"
   ]
  },
  {
   "cell_type": "code",
   "execution_count": 124,
   "metadata": {
    "Collapsed": "false"
   },
   "outputs": [
    {
     "data": {
      "text/html": [
       "\n",
       "\n",
       "\n",
       "\n",
       "\n",
       "\n",
       "  <div class=\"bk-root\" id=\"56f34762-2258-4af4-ab2d-a81be661d80f\" data-root-id=\"51301\"></div>\n"
      ]
     },
     "metadata": {},
     "output_type": "display_data"
    },
    {
     "data": {
      "application/javascript": [
       "(function(root) {\n",
       "  function embed_document(root) {\n",
       "    \n",
       "  var docs_json = {\"bbeffaf3-745a-4d6d-a12c-995a27e3bbfc\":{\"roots\":{\"references\":[{\"attributes\":{\"below\":[{\"id\":\"51310\",\"type\":\"LinearAxis\"}],\"center\":[{\"id\":\"51314\",\"type\":\"Grid\"},{\"id\":\"51319\",\"type\":\"Grid\"}],\"left\":[{\"id\":\"51315\",\"type\":\"LinearAxis\"}],\"plot_height\":250,\"plot_width\":300,\"renderers\":[{\"id\":\"51336\",\"type\":\"GlyphRenderer\"}],\"title\":{\"id\":\"52150\",\"type\":\"Title\"},\"toolbar\":{\"id\":\"51326\",\"type\":\"Toolbar\"},\"x_range\":{\"id\":\"51302\",\"type\":\"DataRange1d\"},\"x_scale\":{\"id\":\"51306\",\"type\":\"LinearScale\"},\"y_range\":{\"id\":\"51304\",\"type\":\"DataRange1d\"},\"y_scale\":{\"id\":\"51308\",\"type\":\"LinearScale\"}},\"id\":\"51301\",\"subtype\":\"Figure\",\"type\":\"Plot\"},{\"attributes\":{\"formatter\":{\"id\":\"52153\",\"type\":\"BasicTickFormatter\"},\"ticker\":{\"id\":\"51311\",\"type\":\"BasicTicker\"}},\"id\":\"51310\",\"type\":\"LinearAxis\"},{\"attributes\":{\"fill_alpha\":{\"value\":0.1},\"fill_color\":{\"value\":\"#1f77b4\"},\"line_alpha\":{\"value\":0.1},\"line_color\":{\"value\":\"#1f77b4\"},\"size\":{\"units\":\"screen\",\"value\":10},\"x\":{\"field\":\"x\"},\"y\":{\"field\":\"y\"}},\"id\":\"51335\",\"type\":\"CircleCross\"},{\"attributes\":{\"formatter\":{\"id\":\"52155\",\"type\":\"BasicTickFormatter\"},\"ticker\":{\"id\":\"51316\",\"type\":\"BasicTicker\"}},\"id\":\"51315\",\"type\":\"LinearAxis\"},{\"attributes\":{\"data_source\":{\"id\":\"51333\",\"type\":\"ColumnDataSource\"},\"glyph\":{\"id\":\"51334\",\"type\":\"CircleCross\"},\"hover_glyph\":null,\"muted_glyph\":null,\"nonselection_glyph\":{\"id\":\"51335\",\"type\":\"CircleCross\"},\"selection_glyph\":null,\"view\":{\"id\":\"51337\",\"type\":\"CDSView\"}},\"id\":\"51336\",\"type\":\"GlyphRenderer\"},{\"attributes\":{\"band_fill_alpha\":0.1,\"band_fill_color\":\"firebrick\",\"dimension\":1,\"grid_line_dash\":[2,4],\"ticker\":{\"id\":\"51316\",\"type\":\"BasicTicker\"}},\"id\":\"51319\",\"type\":\"Grid\"},{\"attributes\":{\"text\":\"\"},\"id\":\"52150\",\"type\":\"Title\"},{\"attributes\":{\"overlay\":{\"id\":\"52158\",\"type\":\"BoxAnnotation\"}},\"id\":\"51322\",\"type\":\"BoxZoomTool\"},{\"attributes\":{},\"id\":\"51306\",\"type\":\"LinearScale\"},{\"attributes\":{},\"id\":\"51323\",\"type\":\"SaveTool\"},{\"attributes\":{},\"id\":\"51324\",\"type\":\"ResetTool\"},{\"attributes\":{},\"id\":\"52156\",\"type\":\"UnionRenderers\"},{\"attributes\":{\"active_drag\":\"auto\",\"active_inspect\":\"auto\",\"active_multi\":null,\"active_scroll\":\"auto\",\"active_tap\":\"auto\",\"tools\":[{\"id\":\"51320\",\"type\":\"PanTool\"},{\"id\":\"51321\",\"type\":\"WheelZoomTool\"},{\"id\":\"51322\",\"type\":\"BoxZoomTool\"},{\"id\":\"51323\",\"type\":\"SaveTool\"},{\"id\":\"51324\",\"type\":\"ResetTool\"},{\"id\":\"51325\",\"type\":\"HelpTool\"}]},\"id\":\"51326\",\"type\":\"Toolbar\"},{\"attributes\":{\"callback\":null},\"id\":\"51304\",\"type\":\"DataRange1d\"},{\"attributes\":{\"grid_line_color\":\"#F56177\",\"grid_line_dash\":[6],\"ticker\":{\"id\":\"51311\",\"type\":\"BasicTicker\"}},\"id\":\"51314\",\"type\":\"Grid\"},{\"attributes\":{\"bottom_units\":\"screen\",\"fill_alpha\":{\"value\":0.5},\"fill_color\":{\"value\":\"lightgrey\"},\"left_units\":\"screen\",\"level\":\"overlay\",\"line_alpha\":{\"value\":1.0},\"line_color\":{\"value\":\"black\"},\"line_dash\":[4,4],\"line_width\":{\"value\":2},\"render_mode\":\"css\",\"right_units\":\"screen\",\"top_units\":\"screen\"},\"id\":\"52158\",\"type\":\"BoxAnnotation\"},{\"attributes\":{},\"id\":\"51325\",\"type\":\"HelpTool\"},{\"attributes\":{},\"id\":\"51316\",\"type\":\"BasicTicker\"},{\"attributes\":{\"callback\":null},\"id\":\"51302\",\"type\":\"DataRange1d\"},{\"attributes\":{\"source\":{\"id\":\"51333\",\"type\":\"ColumnDataSource\"}},\"id\":\"51337\",\"type\":\"CDSView\"},{\"attributes\":{},\"id\":\"52153\",\"type\":\"BasicTickFormatter\"},{\"attributes\":{},\"id\":\"51311\",\"type\":\"BasicTicker\"},{\"attributes\":{},\"id\":\"51321\",\"type\":\"WheelZoomTool\"},{\"attributes\":{},\"id\":\"52157\",\"type\":\"Selection\"},{\"attributes\":{},\"id\":\"52155\",\"type\":\"BasicTickFormatter\"},{\"attributes\":{\"callback\":null,\"data\":{\"x\":[1,2,3,4,5],\"y\":[2,5,8,2,7]},\"selected\":{\"id\":\"52157\",\"type\":\"Selection\"},\"selection_policy\":{\"id\":\"52156\",\"type\":\"UnionRenderers\"}},\"id\":\"51333\",\"type\":\"ColumnDataSource\"},{\"attributes\":{},\"id\":\"51320\",\"type\":\"PanTool\"},{\"attributes\":{\"fill_color\":{\"value\":\"#F56177\"},\"line_color\":{\"value\":\"#F56177\"},\"size\":{\"units\":\"screen\",\"value\":10},\"x\":{\"field\":\"x\"},\"y\":{\"field\":\"y\"}},\"id\":\"51334\",\"type\":\"CircleCross\"},{\"attributes\":{},\"id\":\"51308\",\"type\":\"LinearScale\"}],\"root_ids\":[\"51301\"]},\"title\":\"Bokeh Application\",\"version\":\"1.3.4\"}};\n",
       "  var render_items = [{\"docid\":\"bbeffaf3-745a-4d6d-a12c-995a27e3bbfc\",\"roots\":{\"51301\":\"56f34762-2258-4af4-ab2d-a81be661d80f\"}}];\n",
       "  root.Bokeh.embed.embed_items_notebook(docs_json, render_items);\n",
       "\n",
       "  }\n",
       "  if (root.Bokeh !== undefined) {\n",
       "    embed_document(root);\n",
       "  } else {\n",
       "    var attempts = 0;\n",
       "    var timer = setInterval(function(root) {\n",
       "      if (root.Bokeh !== undefined) {\n",
       "        embed_document(root);\n",
       "        clearInterval(timer);\n",
       "      }\n",
       "      attempts++;\n",
       "      if (attempts > 100) {\n",
       "        console.log(\"Bokeh: ERROR: Unable to run BokehJS code because BokehJS library is missing\");\n",
       "        clearInterval(timer);\n",
       "      }\n",
       "    }, 10, root)\n",
       "  }\n",
       "})(window);"
      ],
      "application/vnd.bokehjs_exec.v0+json": ""
     },
     "metadata": {
      "application/vnd.bokehjs_exec.v0+json": {
       "id": "51301"
      }
     },
     "output_type": "display_data"
    }
   ],
   "source": [
    "# EXERCISE Create a plot of your own and customize several grid properties\n",
    "\n",
    "\n",
    "p = figure(plot_width=300, plot_height=250)\n",
    "p.circle_cross([1,2,3,4,5], [2,5,8,2,7], size=10, color='#F56177')\n",
    "\n",
    "# change just some things about the x-grid\n",
    "p.xgrid.grid_line_color= '#F56177'\n",
    "p.xgrid.grid_line_dash='dashed'\n",
    "\n",
    "# change just some things about the y-grid\n",
    "p.ygrid.band_fill_alpha = 0.1\n",
    "p.ygrid.band_fill_color = \"firebrick\"\n",
    "p.ygrid.grid_line_dash='dotted'\n",
    "\n",
    "show(p)"
   ]
  },
  {
   "cell_type": "markdown",
   "metadata": {},
   "source": [
    "# Next Section"
   ]
  },
  {
   "cell_type": "markdown",
   "metadata": {},
   "source": [
    "Click on this link to go to the next notebook: [03 - Data Sources and Transformations](03%20-%20Data%20Sources%20and%20Transformations.ipynb).\n",
    "\n",
    "To go back to the overview, click [here](00%20-%20Introduction%20and%20Setup.ipynb)."
   ]
  },
  {
   "cell_type": "code",
   "execution_count": null,
   "metadata": {},
   "outputs": [],
   "source": []
  }
 ],
 "metadata": {
  "kernelspec": {
   "display_name": "Python 3",
   "language": "python",
   "name": "python3"
  },
  "language_info": {
   "codemirror_mode": {
    "name": "ipython",
    "version": 3
   },
   "file_extension": ".py",
   "mimetype": "text/x-python",
   "name": "python",
   "nbconvert_exporter": "python",
   "pygments_lexer": "ipython3",
   "version": "3.7.4"
  }
 },
 "nbformat": 4,
 "nbformat_minor": 4
}
